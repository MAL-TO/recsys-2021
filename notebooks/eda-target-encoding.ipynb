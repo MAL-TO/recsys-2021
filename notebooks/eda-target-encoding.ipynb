{
 "cells": [
  {
   "cell_type": "code",
   "execution_count": 37,
   "id": "advised-broadway",
   "metadata": {},
   "outputs": [],
   "source": [
    "import os\n",
    "import matplotlib.pyplot as plt\n",
    "import pandas as pd\n",
    "from datetime import datetime\n",
    "from pyspark.sql.types import IntegerType\n",
    "from pyspark.sql import Row\n",
    "\n",
    "\n",
    "INPUT_PATH = \"hdfs://BigDataHA/user/s277309/recsys_data/\"\n",
    "TEST = False\n",
    "\n",
    "features = [\n",
    "    # Tweet features\n",
    "    \"text_tokens\",      # List[long]    Ordered list of Bert ids corresponding to Bert tokenization of Tweet text\n",
    "    \"hashtags\",         # List[string]  Tab separated list of hastags (identifiers) present in the tweet\n",
    "    \"tweet_id\",         # String        Tweet identifier (unique)\n",
    "    \"present_media\",    # List[String]  Tab separated list of media types. Media type can be in (Photo, Video, Gif)\n",
    "    \"present_links\",    # List[string]  Tab separated list of links (identifiers) included in the Tweet\n",
    "    \"present_domains\",  # List[string]  Tab separated list of domains included in the Tweet (twitter.com, dogs.com)\n",
    "    \"tweet_type\",       # String        Tweet type, can be either Retweet, Quote, Reply, or Toplevel\n",
    "    \"language\",         # String        Identifier corresponding to the inferred language of the Tweet\n",
    "    \"tweet_timestamp\",  # Long          Unix timestamp, in sec of the creation time of the Tweet\n",
    "    \n",
    "    # Engaged-with User (i.e., Engagee) Features\n",
    "    \"engaged_with_user_id\",                 # String    User identifier\n",
    "    \"engaged_with_user_follower_count\",     # Long      Number of followers of the user\n",
    "    \"engaged_with_user_following_count\",    # Long      Number of accounts the user is following\n",
    "    \"engaged_with_user_is_verified\",        # Bool      Is the account verified?\n",
    "    \"engaged_with_user_account_creation\",   # Long      Unix timestamp, in seconds, of the creation time of the account\n",
    "    \n",
    "    # Engaging User (i.e., Engager) Features\n",
    "    \"engaging_user_id\",                     # String    User identifier   \n",
    "    \"engaging_user_follower_count\",         # Long      Number of followers of the user\n",
    "    \"engaging_user_following_count\",        # Long      Number of accounts the user is following\n",
    "    \"engaging_user_is_verified\",            # Bool      Is the account verified?\n",
    "    \"engaging_user_account_creation\",       # Long      Unix timestamp, in seconds, of the creation time of the account\n",
    "    \n",
    "    # Engagement features\n",
    "    \"engagee_follows_engager\"   # Bool  Engagee follows engager?\n",
    "]\n",
    "\n",
    "features_idx = dict(zip(features, range(len(features))))\n",
    "\n",
    "labels_idx = {\n",
    "    # Engagement features (cont.)\n",
    "    \"reply_timestamp\": 20,                  # Long      Unix timestamp (in seconds) of one of the replies, if there is at least one\n",
    "    \"retweet_timestamp\": 21,                # Long      Unix timestamp (in seconds) of the retweet by the engaging user, if there is at least one\n",
    "    \"retweet_with_comment_timestamp\": 22,   # Long      Unix timestamp (in seconds) of one of the retweet with comment by the engaging user, if there is at least one\n",
    "    \"like_timestamp\": 23                    # Long      Unix timestamp (in seconds) of the like by the engaging user, if they liked the tweet\n",
    "}\n",
    "\n",
    "labels = [\"TARGET_\" + l for l in labels_idx.keys()]"
   ]
  },
  {
   "cell_type": "markdown",
   "id": "strategic-madrid",
   "metadata": {},
   "source": [
    "# Dataset"
   ]
  },
  {
   "cell_type": "code",
   "execution_count": 41,
   "id": "jewish-thunder",
   "metadata": {},
   "outputs": [],
   "source": [
    "if TEST:\n",
    "    INPUT_PATH = \"recsys_data_sample_generated/sample_0.0003\"\n",
    "    df = spark.read.parquet(INPUT_PATH)\n",
    "else:\n",
    "    schema = features + list(map(lambda l: f\"TARGET_{l}\", labels_idx))  # Column names\n",
    "    df = sc.textFile(INPUT_PATH).map(lambda line: line.strip().split(\"\\x01\")).toDF(schema)"
   ]
  },
  {
   "cell_type": "code",
   "execution_count": 42,
   "id": "regulation-technique",
   "metadata": {},
   "outputs": [],
   "source": [
    "def binarize_label(el):\n",
    "    if el != '':\n",
    "        return 1\n",
    "    return 0\n",
    "\n",
    "binarize = spark.udf.register(\"binary\", binarize_label, IntegerType())\n",
    "\n",
    "# Documentation suggests not to use withColumn in a for loop.\n",
    "# But it is not clear how to add multiple columns with a single call\n",
    "binary_labels = []\n",
    "for l in labels:\n",
    "    bin_l = \"binary_\" + l\n",
    "    df = df.withColumn(bin_l, binarize(df[l]))\n",
    "    binary_labels.append(bin_l)"
   ]
  },
  {
   "cell_type": "markdown",
   "id": "willing-devil",
   "metadata": {},
   "source": [
    "# EDA\n",
    "Compute conditioned probability of a label being equal to 1, conditioning on one or more attributes"
   ]
  },
  {
   "cell_type": "code",
   "execution_count": 54,
   "id": "indian-speech",
   "metadata": {},
   "outputs": [],
   "source": [
    "def conditional_prob(df, conditioning_rv, target):\n",
    "    \"\"\"\n",
    "    Estimate and plot conditional probability of a target being True, given a set of conditioning random variables.\n",
    "    This function is not suitable if we have attributes of type List[string], e.g. hashtags\n",
    "    \n",
    "    Args:\n",
    "        df (DataFrame): pyspark DataFrame with random variables sample realizations\n",
    "        conditioning_rv (List[str]): names of the conditioning random_variables\n",
    "        target: target random variable for hìwhich parameter is being estimated\n",
    "        \n",
    "    Return:\n",
    "        result: dataframe column with conditioned probability value for each sample\n",
    "    \"\"\"\n",
    "    \n",
    "    # For fields like hashtags, of type List[str] -> unwind the list and create a record for each value in the list\n",
    "    def unwindField(row, field_name):\n",
    "        dict_row = row.asDict()\n",
    "        field = dict_row.pop(field_name, None)\n",
    "        \n",
    "        rows = []\n",
    "        if field: # If not empty\n",
    "            for el in field.split('\\t'):\n",
    "                dict_row[field_name] = el\n",
    "                rows.append(Row(**dict_row))\n",
    "\n",
    "        else:\n",
    "            dict_row[field_name] = 'None' # Instead of str('')\n",
    "            rows.append(Row(**dict_row))\n",
    "\n",
    "        return rows\n",
    "    \n",
    "    targets_dict = {\n",
    "        'binary_TARGET_reply_timestamp': 'reply',\n",
    "        'binary_TARGET_retweet_timestamp': 'retweet',\n",
    "        'binary_TARGET_retweet_with_comment_timestamp': 'retweet_comment',\n",
    "        'binary_TARGET_like_timestamp': 'like'\n",
    "    }\n",
    "    \n",
    "\n",
    "    # Be careful, of course it can be very expensive, especially in terms of memory\n",
    "    for field in conditioning_rv:\n",
    "        if field in [\"text_tokens\", \"hashtags\", \"present_media\", \"present_links\", \"present_domains\"]:\n",
    "            df = df.rdd.flatMap(lambda row: unwindField(row, field)).toDF()\n",
    "    \n",
    "    # Better not to condition on a group but single RV\n",
    "    group = ', '.join(conditioning_rv)\n",
    "    target_table_name = targets_dict[target]\n",
    "    \n",
    "    result = df.groupBy(conditioning_rv).\\\n",
    "        agg({f\"{target}\":\"mean\", \"*\":\"count\"}).\\\n",
    "        withColumnRenamed(f\"avg({target})\", f\"conditional_probability_{target_table_name}\").\\\n",
    "        withColumnRenamed(\"count(1)\", \"num_samples\")\n",
    "    \n",
    "    plotDF = result.groupBy('conditional_probability_{}'.format(target_table_name)).\\\n",
    "    agg({'num_samples': 'sum'}).\\\n",
    "    withColumnRenamed(\"sum(num_samples)\", \"num_samples\")\n",
    "    \n",
    "    # WARNING: Memory issues? If possible find alternative\n",
    "    pdDF = plotDF.toPandas().sort_values(\"conditional_probability_{}\".format(target_table_name))\n",
    "    \n",
    "    fig, ax = plt.subplots()\n",
    "    ax.plot(pdDF[\"conditional_probability_{}\".format(target_table_name)],\n",
    "            pdDF[\"num_samples\"], marker = 'o')\n",
    "    \n",
    "    ax.set_ylim(bottom=0)\n",
    "    ax.set_ylabel(\"Samples per mean target value\")\n",
    "    ax.set_xlabel(\"Mean target values\")\n",
    "    ax.set_title(target_table_name)\n",
    "    \n",
    "    plt.show()\n",
    "    \n",
    "    # Other plots?\n",
    "                                                                                        \n",
    "    return result"
   ]
  },
  {
   "cell_type": "markdown",
   "id": "immediate-declaration",
   "metadata": {},
   "source": [
    "## Example use: toy dataset"
   ]
  },
  {
   "cell_type": "code",
   "execution_count": 50,
   "id": "significant-carolina",
   "metadata": {},
   "outputs": [],
   "source": [
    "toy_df = df.limit(1000)"
   ]
  },
  {
   "cell_type": "code",
   "execution_count": 58,
   "id": "injured-aaron",
   "metadata": {},
   "outputs": [
    {
     "data": {
      "image/png": "[encoded data removed]",
      "text/plain": [
       "<Figure size 432x288 with 1 Axes>"
      ]
     },
     "metadata": {
      "needs_background": "light"
     },
     "output_type": "display_data"
    }
   ],
   "source": [
    "# Better to have a single random variable to test significance\n",
    "# To group on more than one field, simply reapply this function\n",
    "result = conditional_prob(toy_df, [\"hashtags\", \"language\"], \"binary_TARGET_like_timestamp\")"
   ]
  },
  {
   "cell_type": "code",
   "execution_count": 55,
   "id": "nutritional-hartford",
   "metadata": {},
   "outputs": [
    {
     "name": "stdout",
     "output_type": "stream",
     "text": [
      "+--------------------------------+----------------------------+-----------+\n",
      "|hashtags                        |conditional_probability_like|num_samples|\n",
      "+--------------------------------+----------------------------+-----------+\n",
      "|080D70D1641C03491307C303817EC52B|1.0                         |1          |\n",
      "|84D9AF8CAF3A24652636888425F8F858|1.0                         |1          |\n",
      "|912C7334507FA6B3F2AB06F29654D13C|0.0                         |1          |\n",
      "|8B4EB30999A611128AC3A7BFAB5D5D54|1.0                         |1          |\n",
      "|4E449568BF1F066467DFB8F8B8BB260F|0.0                         |1          |\n",
      "|1F83B2FE3F057B23B9B777A6FCC8BF85|0.0                         |1          |\n",
      "|8706CAF44FA6E68C87FD6705366F280A|1.0                         |1          |\n",
      "|245A4C389C12106B8F882F28BE3BADF3|0.0                         |1          |\n",
      "|29F6EA9C3018D568276BEDD8CDCBBAF3|0.0                         |1          |\n",
      "|ACD562A8F6A1987AB22CF1007F69821B|0.0                         |1          |\n",
      "+--------------------------------+----------------------------+-----------+\n",
      "only showing top 10 rows\n",
      "\n"
     ]
    }
   ],
   "source": [
    "result.show(10, truncate = False)"
   ]
  },
  {
   "cell_type": "markdown",
   "id": "progressive-insulation",
   "metadata": {},
   "source": [
    "## Dataset EDA"
   ]
  },
  {
   "cell_type": "markdown",
   "id": "liquid-romania",
   "metadata": {},
   "source": [
    "In order for conditioning (and target encoding) to be meaningful, we would like to see sparsity of conditional probabilities estimates (e.g. see hashtags estimates: that is an example of not meaningful target encoding)."
   ]
  },
  {
   "cell_type": "markdown",
   "id": "southern-boundary",
   "metadata": {},
   "source": [
    "### Hashtags"
   ]
  },
  {
   "cell_type": "markdown",
   "id": "physical-evanescence",
   "metadata": {},
   "source": [
    "Result is meaningless for 'hashtags' alone: on average we have ~0.4 probability, which is very close to the probability of having 'like' = 1 unconditioned."
   ]
  },
  {
   "cell_type": "code",
   "execution_count": 56,
   "id": "popular-canvas",
   "metadata": {},
   "outputs": [
    {
     "data": {
      "image/png": "[encoded data removed]",
      "text/plain": [
       "<Figure size 432x288 with 1 Axes>"
      ]
     },
     "metadata": {
      "needs_background": "light"
     },
     "output_type": "display_data"
    },
    {
     "name": "stdout",
     "output_type": "stream",
     "text": [
      "CPU times: user 991 ms, sys: 289 ms, total: 1.28 s\n",
      "Wall time: 3min 28s\n"
     ]
    }
   ],
   "source": [
    "%%time\n",
    "# Better to have a single random variable to test significance\n",
    "# To group on more than one field, simply reapply this function\n",
    "result = conditional_prob(df, [\"hashtags\"], \"binary_TARGET_like_timestamp\")"
   ]
  },
  {
   "cell_type": "markdown",
   "id": "encouraging-first",
   "metadata": {},
   "source": [
    "### Hashtags, Language"
   ]
  },
  {
   "cell_type": "markdown",
   "id": "entitled-combining",
   "metadata": {},
   "source": [
    "Results become meaningful if we condition on more than one field.\n",
    "\n",
    "How do we handle estimates supported by very low number of counts?"
   ]
  },
  {
   "cell_type": "code",
   "execution_count": 60,
   "id": "champion-crawford",
   "metadata": {},
   "outputs": [
    {
     "data": {
      "image/png": "[encoded data removed]",
      "text/plain": [
       "<Figure size 432x288 with 1 Axes>"
      ]
     },
     "metadata": {
      "needs_background": "light"
     },
     "output_type": "display_data"
    }
   ],
   "source": [
    "%%time\n",
    "# Better to have a single random variable to test significance\n",
    "# To group on more than one field, simply reapply this function\n",
    "result = conditional_prob(df, [\"hashtags\", \"language\"], \"binary_TARGET_like_timestamp\")"
   ]
  },
  {
   "cell_type": "markdown",
   "id": "unlimited-rwanda",
   "metadata": {},
   "source": []
  }
 ],
 "metadata": {
  "kernelspec": {
   "display_name": "PySpark (Yarn)",
   "language": "python",
   "name": "pyspark_yarn"
  },
  "language_info": {
   "codemirror_mode": {
    "name": "ipython",
    "version": 3
   },
   "file_extension": ".py",
   "mimetype": "text/x-python",
   "name": "python",
   "nbconvert_exporter": "python",
   "pygments_lexer": "ipython3",
   "version": "3.7.9"
  }
 },
 "nbformat": 4,
 "nbformat_minor": 5
}
