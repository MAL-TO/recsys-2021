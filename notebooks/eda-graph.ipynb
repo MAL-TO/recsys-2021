{
 "cells": [
  {
   "cell_type": "markdown",
   "id": "scientific-lunch",
   "metadata": {},
   "source": [
    "# RecSys - Graphical analysis"
   ]
  },
  {
   "cell_type": "code",
   "execution_count": 1,
   "id": "exposed-witness",
   "metadata": {},
   "outputs": [],
   "source": [
    "import os\n",
    "\n",
    "from graphframes import GraphFrame\n",
    "from pyspark.sql.functions import lit\n",
    "\n",
    "\n",
    "INPUT_PATH = \"hdfs://BigDataHA/user/s277309/recsys_data/\"\n",
    "CHECKPOINT_PATH = \"recsys_ckpt\"  # This will be created on your HDFS filesystem\n",
    "\n",
    "features = [\n",
    "    # Tweet features\n",
    "    \"text_tokens\",      # List[long]    Ordered list of Bert ids corresponding to Bert tokenization of Tweet text\n",
    "    \"hashtags\",         # List[string]  Tab separated list of hastags (identifiers) present in the tweet\n",
    "    \"tweet_id\",         # String        Tweet identifier (unique)\n",
    "    \"present_media\",    # List[String]  Tab separated list of media types. Media type can be in (Photo, Video, Gif)\n",
    "    \"present_links\",    # List[string]  Tab separated list of links (identifiers) included in the Tweet\n",
    "    \"present_domains\",  # List[string]  Tab separated list of domains included in the Tweet (twitter.com, dogs.com)\n",
    "    \"tweet_type\",       # String        Tweet type, can be either Retweet, Quote, Reply, or Toplevel\n",
    "    \"language\",         # String        Identifier corresponding to the inferred language of the Tweet\n",
    "    \"tweet_timestamp\",  # Long          Unix timestamp, in sec of the creation time of the Tweet\n",
    "    \n",
    "    # Engaged-with User (i.e., Engagee) Features\n",
    "    \"engaged_with_user_id\",                 # String    User identifier\n",
    "    \"engaged_with_user_follower_count\",     # Long      Number of followers of the user\n",
    "    \"engaged_with_user_following_count\",    # Long      Number of accounts the user is following\n",
    "    \"engaged_with_user_is_verified\",        # Bool      Is the account verified?\n",
    "    \"engaged_with_user_account_creation\",   # Long      Unix timestamp, in seconds, of the creation time of the account\n",
    "    \n",
    "    # Engaging User (i.e., Engager) Features\n",
    "    \"engaging_user_id\",                     # String    User identifier   \n",
    "    \"engaging_user_follower_count\",         # Long      Number of followers of the user\n",
    "    \"engaging_user_following_count\",        # Long      Number of accounts the user is following\n",
    "    \"engaging_user_is_verified\",            # Bool      Is the account verified?\n",
    "    \"engaging_user_account_creation\",       # Long      Unix timestamp, in seconds, of the creation time of the account\n",
    "    \n",
    "    # Engagement features\n",
    "    \"engagee_follows_engager\"   # Bool  Does the account of the engaged-with tweet author follow the account that has made the engagement?\n",
    "]\n",
    "\n",
    "features_idx = dict(zip(features, range(len(features))))\n",
    "\n",
    "labels_idx = {\n",
    "    # Engagement features (cont.)\n",
    "    \"reply_timestamp\": 20,                  # Long      Unix timestamp (in seconds) of one of the replies, if there is at least one\n",
    "    \"retweet_timestamp\": 21,                # Long      Unix timestamp (in seconds) of the retweet by the engaging user, if there is at least one\n",
    "    \"retweet_with_comment_timestamp\": 22,   # Long      Unix timestamp (in seconds) of one of the retweet with comment by the engaging user, if there is at least one\n",
    "    \"like_timestamp\": 23                    # Long      Unix timestamp (in seconds) of the like by the engaging user, if they liked the tweet\n",
    "}"
   ]
  },
  {
   "cell_type": "code",
   "execution_count": null,
   "id": "wrapped-asian",
   "metadata": {},
   "outputs": [],
   "source": [
    "# In Twitter Spaces they mentioned this year they added more \"interconnected\"\n",
    "# data points to promote graph-based algorithms!"
   ]
  },
  {
   "cell_type": "markdown",
   "id": "loaded-capacity",
   "metadata": {},
   "source": [
    "## Graph preparation"
   ]
  },
  {
   "cell_type": "markdown",
   "id": "lucky-string",
   "metadata": {},
   "source": [
    "Our **graph representation** represents vertices as users $u_i \\in U$, and edges as engagements. An edge $(u_i, u_j) \\in E$ corresponds to the fact that user $u_i$ engaged with user $u_j$'s tweet in a specific way. If $u_i$ engaged with user $u_j$'s tweet in multiple ways (e.g., a reply and a retweet), there will be *two* edges characterized by two different types (multigraph).\n",
    "\n",
    "- Attributes of **users** $u_i$\n",
    "    - `user_id` (uniquely identifies the user)\n",
    "    - `follower_count`\n",
    "    - `following_count`\n",
    "    - `is_verified`\n",
    "    - `account_creation`\n",
    "\n",
    "    \n",
    "- Attributes of **edges** $(u_i, u_j)$\n",
    "    - `interaction_type` (either 1, 2, 3, 4 corresponding respectively to \"reply\", \"retweet\", \"retweet_with_comment\", \"like\")\n",
    "    - `interaction_timestamp`\n",
    "    - `engagee_follows_engager` (true if $u_j$ follows $u_i$, i.e., if the engaged-with user follows the user that made the engagement, false otherwise)\n",
    "    - All tweet features (see above)"
   ]
  },
  {
   "cell_type": "code",
   "execution_count": 2,
   "id": "received-saint",
   "metadata": {},
   "outputs": [],
   "source": [
    "# Read data\n",
    "lines_rdd = sc.textFile(INPUT_PATH)\n",
    "\n",
    "# Split each line\n",
    "# Fields in each data entry are separated by the 1 character (0x31 in UTF-8).\n",
    "# https://recsys-twitter.com/code/snippets\n",
    "fields_rdd = lines_rdd.map(lambda line: line.strip().split(\"\\x01\"))\n",
    "\n",
    "# Filter out negative samples, i.e., non-interaction samples. Only get *positive* samples.\n",
    "def interaction_filter(line):\n",
    "    if len(line[labels_idx[\"reply_timestamp\"]]) == 0 and \\\n",
    "        len(line[labels_idx[\"retweet_timestamp\"]]) == 0 and \\\n",
    "        len(line[labels_idx[\"retweet_with_comment_timestamp\"]]) == 0 and \\\n",
    "        len(line[labels_idx[\"like_timestamp\"]]) == 0:\n",
    "        return False\n",
    "    return True\n",
    "\n",
    "positives_rdd = fields_rdd.filter(interaction_filter)\n",
    "\n",
    "# Move over to DataFrame interface\n",
    "schema = features + list(labels_idx)  # Column names\n",
    "positives_df = spark.createDataFrame(positives_rdd, schema).cache()"
   ]
  },
  {
   "cell_type": "code",
   "execution_count": 3,
   "id": "ideal-stewart",
   "metadata": {},
   "outputs": [
    {
     "name": "stdout",
     "output_type": "stream",
     "text": [
      "root\n",
      " |-- text_tokens: string (nullable = true)\n",
      " |-- hashtags: string (nullable = true)\n",
      " |-- tweet_id: string (nullable = true)\n",
      " |-- present_media: string (nullable = true)\n",
      " |-- present_links: string (nullable = true)\n",
      " |-- present_domains: string (nullable = true)\n",
      " |-- tweet_type: string (nullable = true)\n",
      " |-- language: string (nullable = true)\n",
      " |-- tweet_timestamp: string (nullable = true)\n",
      " |-- engaged_with_user_id: string (nullable = true)\n",
      " |-- engaged_with_user_follower_count: string (nullable = true)\n",
      " |-- engaged_with_user_following_count: string (nullable = true)\n",
      " |-- engaged_with_user_is_verified: string (nullable = true)\n",
      " |-- engaged_with_user_account_creation: string (nullable = true)\n",
      " |-- engaging_user_id: string (nullable = true)\n",
      " |-- engaging_user_follower_count: string (nullable = true)\n",
      " |-- engaging_user_following_count: string (nullable = true)\n",
      " |-- engaging_user_is_verified: string (nullable = true)\n",
      " |-- engaging_user_account_creation: string (nullable = true)\n",
      " |-- engagee_follows_engager: string (nullable = true)\n",
      " |-- reply_timestamp: string (nullable = true)\n",
      " |-- retweet_timestamp: string (nullable = true)\n",
      " |-- retweet_with_comment_timestamp: string (nullable = true)\n",
      " |-- like_timestamp: string (nullable = true)\n",
      "\n"
     ]
    }
   ],
   "source": [
    "positives_df.printSchema()"
   ]
  },
  {
   "cell_type": "code",
   "execution_count": 4,
   "id": "antique-graduate",
   "metadata": {},
   "outputs": [],
   "source": [
    "# Create vertices DataFrame (users)\n",
    "engaged_with_users_df = positives_df.selectExpr(\"engaged_with_user_id AS id\",  # Required column\n",
    "                                                \"engaged_with_user_follower_count AS follower_count\",\n",
    "                                                \"engaged_with_user_following_count AS following_count\",\n",
    "                                                \"engaged_with_user_is_verified AS is_verified\",\n",
    "                                                \"engaged_with_user_account_creation AS account_creation\")\n",
    "\n",
    "engaging_users_df = positives_df.selectExpr(\"engaging_user_id AS id\",  # Required column\n",
    "                                            \"engaging_user_follower_count AS follower_count\",\n",
    "                                            \"engaging_user_following_count AS following_count\",\n",
    "                                            \"engaging_user_is_verified AS is_verified\",\n",
    "                                            \"engaging_user_account_creation AS account_creation\")\n",
    "\n",
    "union_users_df = engaged_with_users_df.union(engaging_users_df)\n",
    "\n",
    "users_df = union_users_df.distinct()  # Requires shuffle"
   ]
  },
  {
   "cell_type": "code",
   "execution_count": 5,
   "id": "swiss-valuable",
   "metadata": {},
   "outputs": [],
   "source": [
    "# Create edges DataFrame (interactions)\n",
    "# edge: engaging --> engaged_with\n",
    "interactions_df = positives_df.selectExpr( \"engaging_user_id AS src\",  # Required column\n",
    "                                           \"engaged_with_user_id AS dst\",  # Required column\n",
    "                                           \"engagee_follows_engager AS dst_follows_src\",\n",
    "                                           \"text_tokens\",\n",
    "                                           \"hashtags\",\n",
    "                                           \"tweet_id\",\n",
    "                                           \"present_media\",\n",
    "                                           \"present_links\",\n",
    "                                           \"present_domains\",\n",
    "                                           \"tweet_type\",\n",
    "                                           \"language\",\n",
    "                                           \"tweet_timestamp\",\n",
    "                                           \"reply_timestamp\",\n",
    "                                           \"retweet_timestamp\",\n",
    "                                           \"retweet_with_comment_timestamp\",\n",
    "                                           \"like_timestamp\")\n",
    "\n",
    "# Each dataframe contains only an interaction type.\n",
    "reply_interactions_df = interactions_df.where(\"LENGTH(reply_timestamp) > 0\")\n",
    "retweet_interactions_df = interactions_df.where(\"LENGTH(retweet_timestamp) > 0\")\n",
    "retweet_with_comment_interactions_df = interactions_df.where(\"LENGTH(retweet_with_comment_timestamp) > 0\")\n",
    "like_interactions_df = interactions_df.where(\"LENGTH(like_timestamp) > 0\")\n",
    "\n",
    "# Adapt all dataframes to a common schema (with `interaction_type`, `interaction_timestamp`)\n",
    "column_df_dict = { \n",
    "    # Associates the column specifying the timestamp of the interaction with the dataframe of that type of interaction\n",
    "    \"reply_timestamp\": reply_interactions_df,\n",
    "    \"retweet_timestamp\": retweet_interactions_df,\n",
    "    \"retweet_with_comment_timestamp\": retweet_with_comment_interactions_df,\n",
    "    \"like_timestamp\": like_interactions_df\n",
    "}\n",
    "\n",
    "interaction_types = {\n",
    "    # Associates the column of the timestamp of the interaction with the interaction type id\n",
    "    \"reply_timestamp\": 1,\n",
    "    \"retweet_timestamp\": 2,\n",
    "    \"retweet_with_comment_timestamp\": 3,\n",
    "    \"like_timestamp\": 4\n",
    "}\n",
    "\n",
    "common_df_list = []\n",
    "for column, df in column_df_dict.items():\n",
    "    common_schema_df = df.selectExpr(\"src\", \"dst\",\n",
    "                                     \"dst_follows_src\",\n",
    "                                     \"text_tokens\",\n",
    "                                     \"hashtags\",\n",
    "                                     \"tweet_id\",\n",
    "                                     \"present_media\",\n",
    "                                     \"present_links\",\n",
    "                                     \"present_domains\",\n",
    "                                     \"tweet_type\",\n",
    "                                     \"language\",\n",
    "                                     \"tweet_timestamp\",\n",
    "                                     f\"{column} AS interaction_timestamp\")\n",
    "        \n",
    "    common_schema_with_type_df = common_schema_df.withColumn(\"interaction_type\", lit(interaction_types[column]))\n",
    "    \n",
    "    common_df_list.append(common_schema_with_type_df)\n",
    "\n",
    "# Concatenate interaction dataframes into a single one (final edges DataFrame)\n",
    "# Note that a single tweet may appear multiple times, if there is more than one type of interaction.\n",
    "edges_df = common_df_list[0].union(common_df_list[1]).union(common_df_list[2]).union(common_df_list[3])"
   ]
  },
  {
   "cell_type": "code",
   "execution_count": 6,
   "id": "pleasant-bahrain",
   "metadata": {},
   "outputs": [
    {
     "name": "stdout",
     "output_type": "stream",
     "text": [
      "root\n",
      " |-- id: string (nullable = true)\n",
      " |-- follower_count: string (nullable = true)\n",
      " |-- following_count: string (nullable = true)\n",
      " |-- is_verified: string (nullable = true)\n",
      " |-- account_creation: string (nullable = true)\n",
      "\n"
     ]
    }
   ],
   "source": [
    "users_df.printSchema()"
   ]
  },
  {
   "cell_type": "code",
   "execution_count": 7,
   "id": "happy-opening",
   "metadata": {},
   "outputs": [
    {
     "name": "stdout",
     "output_type": "stream",
     "text": [
      "root\n",
      " |-- src: string (nullable = true)\n",
      " |-- dst: string (nullable = true)\n",
      " |-- dst_follows_src: string (nullable = true)\n",
      " |-- text_tokens: string (nullable = true)\n",
      " |-- hashtags: string (nullable = true)\n",
      " |-- tweet_id: string (nullable = true)\n",
      " |-- present_media: string (nullable = true)\n",
      " |-- present_links: string (nullable = true)\n",
      " |-- present_domains: string (nullable = true)\n",
      " |-- tweet_type: string (nullable = true)\n",
      " |-- language: string (nullable = true)\n",
      " |-- tweet_timestamp: string (nullable = true)\n",
      " |-- interaction_timestamp: string (nullable = true)\n",
      " |-- interaction_type: integer (nullable = false)\n",
      "\n"
     ]
    }
   ],
   "source": [
    "edges_df.printSchema()"
   ]
  },
  {
   "cell_type": "code",
   "execution_count": 8,
   "id": "structural-handy",
   "metadata": {},
   "outputs": [],
   "source": [
    "# Create the graph\n",
    "g = GraphFrame(users_df, edges_df).cache()"
   ]
  },
  {
   "cell_type": "markdown",
   "id": "isolated-sender",
   "metadata": {},
   "source": [
    "**Basic graph statistics**"
   ]
  },
  {
   "cell_type": "code",
   "execution_count": 9,
   "id": "extensive-layer",
   "metadata": {},
   "outputs": [
    {
     "data": {
      "text/plain": [
       "41404456"
      ]
     },
     "execution_count": 9,
     "metadata": {},
     "output_type": "execute_result"
    }
   ],
   "source": [
    "n_users = g.vertices.count()\n",
    "n_users"
   ]
  },
  {
   "cell_type": "code",
   "execution_count": 10,
   "id": "perceived-design",
   "metadata": {},
   "outputs": [
    {
     "data": {
      "text/plain": [
       "41404456"
      ]
     },
     "execution_count": 10,
     "metadata": {},
     "output_type": "execute_result"
    }
   ],
   "source": [
    "g.dropIsolatedVertices().vertices.count()  # There are *no* isolated vertices (makes sense, as the database is built on interacting vertices)"
   ]
  },
  {
   "cell_type": "code",
   "execution_count": 11,
   "id": "acquired-qualification",
   "metadata": {},
   "outputs": [
    {
     "data": {
      "text/plain": [
       "389398378"
      ]
     },
     "execution_count": 11,
     "metadata": {},
     "output_type": "execute_result"
    }
   ],
   "source": [
    "n_edges = g.edges.count()\n",
    "n_edges"
   ]
  },
  {
   "cell_type": "markdown",
   "id": "diagnostic-accuracy",
   "metadata": {},
   "source": [
    "## Graph analysis"
   ]
  },
  {
   "cell_type": "markdown",
   "id": "amber-interim",
   "metadata": {},
   "source": [
    "**In- and out-degree statistics**"
   ]
  },
  {
   "cell_type": "code",
   "execution_count": 12,
   "id": "photographic-investigation",
   "metadata": {},
   "outputs": [],
   "source": [
    "in_degrees_df = g.inDegrees\n",
    "out_degrees_df = g.outDegrees\n",
    "\n",
    "in_degrees_max = in_degrees_df.agg({\"inDegree\": \"max\"})\n",
    "in_degrees_min = in_degrees_df.agg({\"inDegree\": \"min\"})\n",
    "in_degrees_avg = in_degrees_df.agg({\"inDegree\": \"avg\"})\n",
    "in_degrees_stddev = in_degrees_df.agg({\"inDegree\": \"stddev\"})\n",
    "\n",
    "out_degrees_max = out_degrees_df.agg({\"outDegree\": \"max\"})\n",
    "out_degrees_min = out_degrees_df.agg({\"outDegree\": \"min\"})\n",
    "out_degrees_avg = out_degrees_df.agg({\"outDegree\": \"avg\"})\n",
    "out_degrees_stddev = out_degrees_df.agg({\"outDegree\": \"stddev\"})"
   ]
  },
  {
   "cell_type": "code",
   "execution_count": 13,
   "id": "historic-college",
   "metadata": {},
   "outputs": [
    {
     "name": "stdout",
     "output_type": "stream",
     "text": [
      "[Row(max(inDegree)=390416)]\n",
      "[Row(min(inDegree)=1)]\n",
      "[Row(avg(inDegree)=21.594890696345512)]\n",
      "[Row(stddev(inDegree)=425.1624978474091)]\n"
     ]
    }
   ],
   "source": [
    "print(in_degrees_max.collect())\n",
    "print(in_degrees_min.collect())\n",
    "print(in_degrees_avg.collect())\n",
    "print(in_degrees_stddev.collect())"
   ]
  },
  {
   "cell_type": "code",
   "execution_count": 14,
   "id": "brown-impact",
   "metadata": {},
   "outputs": [
    {
     "name": "stdout",
     "output_type": "stream",
     "text": [
      "[Row(max(outDegree)=19833)]\n",
      "[Row(min(outDegree)=1)]\n",
      "[Row(avg(outDegree)=10.701041740035109)]\n",
      "[Row(stddev(outDegree)=55.199456839697945)]\n"
     ]
    }
   ],
   "source": [
    "print(out_degrees_max.collect())\n",
    "print(out_degrees_min.collect())\n",
    "print(out_degrees_avg.collect())\n",
    "print(out_degrees_stddev.collect())"
   ]
  },
  {
   "cell_type": "markdown",
   "id": "played-webcam",
   "metadata": {},
   "source": [
    "Should take into account supernodes!"
   ]
  },
  {
   "cell_type": "markdown",
   "id": "verbal-habitat",
   "metadata": {},
   "source": [
    "**Connected components**"
   ]
  },
  {
   "cell_type": "code",
   "execution_count": 15,
   "id": "annoying-likelihood",
   "metadata": {},
   "outputs": [],
   "source": [
    "sc.setCheckpointDir(CHECKPOINT_PATH)"
   ]
  },
  {
   "cell_type": "code",
   "execution_count": 16,
   "id": "british-frame",
   "metadata": {},
   "outputs": [],
   "source": [
    "# Returns a dataframe that contains one row for each user,\n",
    "# with an additional column \"component\" as the unique identifier\n",
    "# of the connected component assigned to the user\n",
    "# Note: exclude isolated nodes from the computation\n",
    "connected_components_df = g.connectedComponents()"
   ]
  },
  {
   "cell_type": "code",
   "execution_count": 17,
   "id": "monthly-influence",
   "metadata": {},
   "outputs": [
    {
     "name": "stdout",
     "output_type": "stream",
     "text": [
      "Number of connected components (excluding isolated nodes): 234123\n"
     ]
    }
   ],
   "source": [
    "n_connected_components = connected_components_df.select(\"component\").distinct().count()\n",
    "print(f\"Number of connected components (excluding isolated nodes): {n_connected_components}\")"
   ]
  },
  {
   "cell_type": "code",
   "execution_count": 18,
   "id": "hearing-occupation",
   "metadata": {},
   "outputs": [
    {
     "name": "stdout",
     "output_type": "stream",
     "text": [
      "Average number of nodes in each connected component: 176.84916048401908\n"
     ]
    }
   ],
   "source": [
    "print(f\"Average number of nodes in each connected component: {n_users/n_connected_components}\")"
   ]
  }
 ],
 "metadata": {
  "kernelspec": {
   "display_name": "Python 3",
   "language": "python",
   "name": "python3"
  },
  "language_info": {
   "codemirror_mode": {
    "name": "ipython",
    "version": 3
   },
   "file_extension": ".py",
   "mimetype": "text/x-python",
   "name": "python",
   "nbconvert_exporter": "python",
   "pygments_lexer": "ipython3",
   "version": "3.7.9"
  }
 },
 "nbformat": 4,
 "nbformat_minor": 5
}
