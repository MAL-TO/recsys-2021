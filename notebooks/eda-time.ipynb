{
 "cells": [
  {
   "cell_type": "code",
   "execution_count": 26,
   "id": "reflected-dispatch",
   "metadata": {},
   "outputs": [],
   "source": [
    "import os\n",
    "import matplotlib.pyplot as plt\n",
    "import pandas as pd\n",
    "import time\n",
    "\n",
    "from pyspark import SparkContext\n",
    "from pyspark.sql.types import IntegerType\n",
    "from pyspark.sql import Row\n",
    "from pyspark.sql.functions import col\n",
    "\n",
    "INPUT_PATH = \"hdfs://BigDataHA/user/s277309/recsys_data/\"\n",
    "TEST = False # Enable to test the code on a sample dataset\n",
    "\n",
    "features = [\n",
    "    # Tweet features\n",
    "    \"text_tokens\",      # List[long]    Ordered list of Bert ids corresponding to Bert tokenization of Tweet text\n",
    "    \"hashtags\",         # List[string]  Tab separated list of hastags (identifiers) present in the tweet\n",
    "    \"tweet_id\",         # String        Tweet identifier (unique)\n",
    "    \"present_media\",    # List[String]  Tab separated list of media types. Media type can be in (Photo, Video, Gif)\n",
    "    \"present_links\",    # List[string]  Tab separated list of links (identifiers) included in the Tweet\n",
    "    \"present_domains\",  # List[string]  Tab separated list of domains included in the Tweet (twitter.com, dogs.com)\n",
    "    \"tweet_type\",       # String        Tweet type, can be either Retweet, Quote, Reply, or Toplevel\n",
    "    \"language\",         # String        Identifier corresponding to the inferred language of the Tweet\n",
    "    \"tweet_timestamp\",  # Long          Unix timestamp, in sec of the creation time of the Tweet\n",
    "    \n",
    "    # Engaged-with User (i.e., Engagee) Features\n",
    "    \"engaged_with_user_id\",                 # String    User identifier\n",
    "    \"engaged_with_user_follower_count\",     # Long      Number of followers of the user\n",
    "    \"engaged_with_user_following_count\",    # Long      Number of accounts the user is following\n",
    "    \"engaged_with_user_is_verified\",        # Bool      Is the account verified?\n",
    "    \"engaged_with_user_account_creation\",   # Long      Unix timestamp, in seconds, of the creation time of the account\n",
    "    \n",
    "    # Engaging User (i.e., Engager) Features\n",
    "    \"engaging_user_id\",                     # String    User identifier   \n",
    "    \"engaging_user_follower_count\",         # Long      Number of followers of the user\n",
    "    \"engaging_user_following_count\",        # Long      Number of accounts the user is following\n",
    "    \"engaging_user_is_verified\",            # Bool      Is the account verified?\n",
    "    \"engaging_user_account_creation\",       # Long      Unix timestamp, in seconds, of the creation time of the account\n",
    "    \n",
    "    # Engagement features\n",
    "    \"engagee_follows_engager\"   # Bool  Engagee follows engager?\n",
    "]\n",
    "\n",
    "features_idx = dict(zip(features, range(len(features))))\n",
    "\n",
    "labels_idx = {\n",
    "    # Engagement features (cont.)\n",
    "    \"reply_timestamp\": 20,                  # Long      Unix timestamp (in seconds) of one of the replies, if there is at least one\n",
    "    \"retweet_timestamp\": 21,                # Long      Unix timestamp (in seconds) of the retweet by the engaging user, if there is at least one\n",
    "    \"retweet_with_comment_timestamp\": 22,   # Long      Unix timestamp (in seconds) of one of the retweet with comment by the engaging user, if there is at least one\n",
    "    \"like_timestamp\": 23                    # Long      Unix timestamp (in seconds) of the like by the engaging user, if they liked the tweet\n",
    "}\n",
    "\n",
    "labels = [\"TARGET_\" + l for l in labels_idx.keys()]"
   ]
  },
  {
   "cell_type": "code",
   "execution_count": 27,
   "id": "latin-entertainment",
   "metadata": {},
   "outputs": [],
   "source": [
    "if TEST:\n",
    "    INPUT_PATH = \"recsys_data_sample_generated/sample_0.0000\"\n",
    "    df = spark.read.parquet(INPUT_PATH)\n",
    "else:\n",
    "    schema = features + list(map(lambda l: f\"TARGET_{l}\", labels_idx))  # Column names\n",
    "    df = sc.textFile(INPUT_PATH).map(lambda line: line.strip().split(\"\\x01\")).toDF(schema)"
   ]
  },
  {
   "cell_type": "markdown",
   "id": "continental-penalty",
   "metadata": {},
   "source": [
    "Map engagement timestamps to 0/1 labels"
   ]
  },
  {
   "cell_type": "code",
   "execution_count": 28,
   "id": "incorporate-wilson",
   "metadata": {},
   "outputs": [],
   "source": [
    "def binarize_label(el):\n",
    "    if el != '':\n",
    "        return 1\n",
    "    return 0\n",
    "\n",
    "binarize = spark.udf.register(\"binary\", binarize_label, IntegerType())\n",
    "\n",
    "# Documentation suggests not to use withColumn in a for loop.\n",
    "# But it is not clear how to add multiple columns with a single call\n",
    "binary_labels = []\n",
    "for l in labels:\n",
    "    bin_l = \"binary_\" + l\n",
    "    df = df.withColumn(bin_l, binarize(df[l]))\n",
    "    binary_labels.append(bin_l)"
   ]
  },
  {
   "cell_type": "markdown",
   "id": "inappropriate-rehabilitation",
   "metadata": {},
   "source": [
    "# Day of the week"
   ]
  },
  {
   "cell_type": "code",
   "execution_count": 29,
   "id": "moral-preparation",
   "metadata": {},
   "outputs": [],
   "source": [
    "def dow_engagement(data, target):\n",
    "    \"\"\"\n",
    "    Count and plot of the number of positive engagements with respect to target, for day of the week.\n",
    "    \"\"\"\n",
    "    \n",
    "    def day_of_week(raw_data, features = None):\n",
    "        \"\"\"\n",
    "        Extract day of the week (categorical) from tweet_timestamp. UTC time zone\n",
    "\n",
    "        NOTE: koalas as default return weekday as a number. I guess this suggests wrong ordering,\n",
    "              being Sunday closer to Monday than Friday. Verify effect on model's predictions\n",
    "        \"\"\"\n",
    "        dow = spark.udf.register(\"DayOfWeek\", lambda col_value: time.strftime(\"%A\", time.localtime(int(col_value))))\n",
    "        raw_data = raw_data.withColumn(\"day_of_week\", dow(raw_data[\"tweet_timestamp\"]))\n",
    "        \n",
    "        return raw_data\n",
    "    \n",
    "    \n",
    "    target_dict = {\n",
    "        'binary_TARGET_reply_timestamp': \"reply\",\n",
    "        'binary_TARGET_retweet_timestamp': \"retweet\",\n",
    "        'binary_TARGET_retweet_with_comment_timestamp': \"retweet_with_comment\",\n",
    "        'binary_TARGET_like_timestamp': \"like\"\n",
    "    }\n",
    "    \n",
    "    # Return dataframe with day_of_week column\n",
    "    data = day_of_week(data)\n",
    "    sliced_data = data.select('day_of_week', target)\n",
    "    aggregated_data = sliced_data.groupBy('day_of_week').\\\n",
    "        agg({target: 'sum'}).\\\n",
    "        withColumnRenamed(f\"sum({target})\", f\"number of {target_dict[target]}\")\n",
    "    \n",
    "    pandas_df = aggregated_data.toPandas()\n",
    "    \n",
    "    pandas_df.plot.bar(\"day_of_week\", f\"number of {target_dict[target]}\", title=target_dict[target])"
   ]
  },
  {
   "cell_type": "code",
   "execution_count": null,
   "id": "muslim-anthropology",
   "metadata": {},
   "outputs": [],
   "source": [
    "%%time\n",
    "for lab in binary_labels:\n",
    "    dow_engagement(df, lab)"
   ]
  },
  {
   "cell_type": "markdown",
   "id": "surgical-salvation",
   "metadata": {},
   "source": [
    "# Hour of Day"
   ]
  },
  {
   "cell_type": "code",
   "execution_count": null,
   "id": "stainless-hebrew",
   "metadata": {},
   "outputs": [],
   "source": [
    "def hod_engagement(data, target):\n",
    "    \"\"\"\n",
    "    Count and plot of the number of positive engagements with respect to target, for day of the week.\n",
    "    \"\"\"\n",
    "    \n",
    "    def hour_of_day(raw_data, features = None):\n",
    "        \"\"\"\n",
    "        Extract hour of day (numerical) from tweet_timestamp. UTC time zone\n",
    "        \"\"\"\n",
    "        dow = spark.udf.register(\"HourOfDay\", lambda col_value: time.strftime(\"%H\", time.localtime(int(col_value))))\n",
    "        raw_data = raw_data.withColumn(\"hour_of_day\", dow(raw_data[\"tweet_timestamp\"]))\n",
    "        \n",
    "        return raw_data\n",
    "    \n",
    "    \n",
    "    target_dict = {\n",
    "        'binary_TARGET_reply_timestamp': \"reply\",\n",
    "        'binary_TARGET_retweet_timestamp': \"retweet\",\n",
    "        'binary_TARGET_retweet_with_comment_timestamp': \"retweet_with_comment\",\n",
    "        'binary_TARGET_like_timestamp': \"like\"\n",
    "    }\n",
    "    \n",
    "    # Return dataframe with day_of_week column\n",
    "    data = hour_of_day(data)\n",
    "    sliced_data = data.select('hour_of_day', target)\n",
    "    aggregated_data = sliced_data.groupBy('hour_of_day').\\\n",
    "        agg({target: 'sum'}).\\\n",
    "        withColumnRenamed(f\"sum({target})\", f\"number of {target_dict[target]}\")\n",
    "    \n",
    "    pandas_df = aggregated_data.toPandas()\n",
    "    \n",
    "    pandas_df.head()\n",
    "    \n",
    "    pandas_df.plot.bar(\"hour_of_day\", f\"number of {target_dict[target]}\", title=target_dict[target])"
   ]
  },
  {
   "cell_type": "code",
   "execution_count": null,
   "id": "developmental-amendment",
   "metadata": {},
   "outputs": [],
   "source": [
    "%%time\n",
    "for lab in binary_labels:\n",
    "    hod_engagement(df, lab)"
   ]
  }
 ],
 "metadata": {
  "kernelspec": {
   "display_name": "PySpark (Yarn)",
   "language": "python",
   "name": "pyspark_yarn"
  },
  "language_info": {
   "codemirror_mode": {
    "name": "ipython",
    "version": 3
   },
   "file_extension": ".py",
   "mimetype": "text/x-python",
   "name": "python",
   "nbconvert_exporter": "python",
   "pygments_lexer": "ipython3",
   "version": "3.7.9"
  }
 },
 "nbformat": 4,
 "nbformat_minor": 5
}
