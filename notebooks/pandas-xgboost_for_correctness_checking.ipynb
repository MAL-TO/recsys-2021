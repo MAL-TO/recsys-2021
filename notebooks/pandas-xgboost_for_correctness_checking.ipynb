{
 "cells": [
  {
   "cell_type": "code",
   "execution_count": 1,
   "id": "743933b1",
   "metadata": {},
   "outputs": [],
   "source": [
    "features = [\n",
    "    \"text_tokens\",\n",
    "    \"hashtags\",\n",
    "    \"tweet_id\",\n",
    "    \"present_media\",\n",
    "    \"present_links\",\n",
    "    \"present_domains\",\n",
    "    \"tweet_type\",\n",
    "    \"language\",\n",
    "    \"tweet_timestamp\",\n",
    "    \"engaged_with_user_id\",\n",
    "    \"engaged_with_user_follower_count\",\n",
    "    \"engaged_with_user_following_count\",\n",
    "    \"engaged_with_user_is_verified\",\n",
    "    \"engaged_with_user_account_creation\",\n",
    "    \"engaging_user_id\",\n",
    "    \"engaging_user_follower_count\",\n",
    "    \"engaging_user_following_count\",\n",
    "    \"engaging_user_is_verified\",\n",
    "    \"engaging_user_account_creation\",\n",
    "    \"engagee_follows_engager\",\n",
    "]\n",
    "\n",
    "features_idx = dict(zip(features, range(len(features))))\n",
    "\n",
    "labels_idx = {\n",
    "    \"reply_timestamp\": 20,\n",
    "    \"retweet_timestamp\": 21,\n",
    "    \"retweet_with_comment_timestamp\": 22,\n",
    "    \"like_timestamp\": 23,\n",
    "}\n",
    "names = features + list(labels_idx)"
   ]
  },
  {
   "cell_type": "code",
   "execution_count": 2,
   "id": "2a2ad99a",
   "metadata": {},
   "outputs": [],
   "source": [
    "import xgboost as xgb\n",
    "import pandas as pd"
   ]
  },
  {
   "cell_type": "code",
   "execution_count": 3,
   "id": "fc7db9ce",
   "metadata": {},
   "outputs": [],
   "source": [
    "df = pd.read_csv('./data/raw/sample_200k_rows', names=names, sep='\\x01')"
   ]
  },
  {
   "cell_type": "code",
   "execution_count": 4,
   "id": "e2121bef",
   "metadata": {},
   "outputs": [],
   "source": [
    "df = df.assign(retweet_with_comment=df[\"retweet_with_comment_timestamp\"].notna())"
   ]
  },
  {
   "cell_type": "code",
   "execution_count": 6,
   "id": "70e20e8b",
   "metadata": {},
   "outputs": [],
   "source": [
    "df = df[[\n",
    "    \"engaged_with_user_follower_count\",\n",
    "    \"engaged_with_user_following_count\",\n",
    "    \"engaging_user_follower_count\",\n",
    "    \"engaging_user_following_count\",\n",
    "    \"retweet_with_comment\"\n",
    "]]"
   ]
  },
  {
   "cell_type": "code",
   "execution_count": 7,
   "id": "7c93b85c",
   "metadata": {},
   "outputs": [
    {
     "data": {
      "text/html": [
       "<div>\n",
       "<style scoped>\n",
       "    .dataframe tbody tr th:only-of-type {\n",
       "        vertical-align: middle;\n",
       "    }\n",
       "\n",
       "    .dataframe tbody tr th {\n",
       "        vertical-align: top;\n",
       "    }\n",
       "\n",
       "    .dataframe thead th {\n",
       "        text-align: right;\n",
       "    }\n",
       "</style>\n",
       "<table border=\"1\" class=\"dataframe\">\n",
       "  <thead>\n",
       "    <tr style=\"text-align: right;\">\n",
       "      <th></th>\n",
       "      <th>engaged_with_user_follower_count</th>\n",
       "      <th>engaged_with_user_following_count</th>\n",
       "      <th>engaging_user_follower_count</th>\n",
       "      <th>engaging_user_following_count</th>\n",
       "      <th>retweet_with_comment</th>\n",
       "    </tr>\n",
       "  </thead>\n",
       "  <tbody>\n",
       "    <tr>\n",
       "      <th>0</th>\n",
       "      <td>1062</td>\n",
       "      <td>2498</td>\n",
       "      <td>50</td>\n",
       "      <td>335</td>\n",
       "      <td>False</td>\n",
       "    </tr>\n",
       "    <tr>\n",
       "      <th>1</th>\n",
       "      <td>34662</td>\n",
       "      <td>281</td>\n",
       "      <td>38</td>\n",
       "      <td>638</td>\n",
       "      <td>False</td>\n",
       "    </tr>\n",
       "    <tr>\n",
       "      <th>2</th>\n",
       "      <td>68605</td>\n",
       "      <td>1056</td>\n",
       "      <td>404</td>\n",
       "      <td>178</td>\n",
       "      <td>False</td>\n",
       "    </tr>\n",
       "    <tr>\n",
       "      <th>3</th>\n",
       "      <td>28392</td>\n",
       "      <td>353</td>\n",
       "      <td>113</td>\n",
       "      <td>264</td>\n",
       "      <td>False</td>\n",
       "    </tr>\n",
       "    <tr>\n",
       "      <th>4</th>\n",
       "      <td>4490</td>\n",
       "      <td>27</td>\n",
       "      <td>1123</td>\n",
       "      <td>1220</td>\n",
       "      <td>False</td>\n",
       "    </tr>\n",
       "  </tbody>\n",
       "</table>\n",
       "</div>"
      ],
      "text/plain": [
       "   engaged_with_user_follower_count  engaged_with_user_following_count  \\\n",
       "0                              1062                               2498   \n",
       "1                             34662                                281   \n",
       "2                             68605                               1056   \n",
       "3                             28392                                353   \n",
       "4                              4490                                 27   \n",
       "\n",
       "   engaging_user_follower_count  engaging_user_following_count  \\\n",
       "0                            50                            335   \n",
       "1                            38                            638   \n",
       "2                           404                            178   \n",
       "3                           113                            264   \n",
       "4                          1123                           1220   \n",
       "\n",
       "   retweet_with_comment  \n",
       "0                 False  \n",
       "1                 False  \n",
       "2                 False  \n",
       "3                 False  \n",
       "4                 False  "
      ]
     },
     "execution_count": 7,
     "metadata": {},
     "output_type": "execute_result"
    }
   ],
   "source": [
    "df_train = df.iloc[0:int(len(df) * 0.6)]\n",
    "df_train.head()"
   ]
  },
  {
   "cell_type": "code",
   "execution_count": 8,
   "id": "ed91104d",
   "metadata": {},
   "outputs": [
    {
     "data": {
      "text/html": [
       "<div>\n",
       "<style scoped>\n",
       "    .dataframe tbody tr th:only-of-type {\n",
       "        vertical-align: middle;\n",
       "    }\n",
       "\n",
       "    .dataframe tbody tr th {\n",
       "        vertical-align: top;\n",
       "    }\n",
       "\n",
       "    .dataframe thead th {\n",
       "        text-align: right;\n",
       "    }\n",
       "</style>\n",
       "<table border=\"1\" class=\"dataframe\">\n",
       "  <thead>\n",
       "    <tr style=\"text-align: right;\">\n",
       "      <th></th>\n",
       "      <th>engaged_with_user_follower_count</th>\n",
       "      <th>engaged_with_user_following_count</th>\n",
       "      <th>engaging_user_follower_count</th>\n",
       "      <th>engaging_user_following_count</th>\n",
       "      <th>retweet_with_comment</th>\n",
       "    </tr>\n",
       "  </thead>\n",
       "  <tbody>\n",
       "    <tr>\n",
       "      <th>179279</th>\n",
       "      <td>323596</td>\n",
       "      <td>277</td>\n",
       "      <td>160</td>\n",
       "      <td>333</td>\n",
       "      <td>False</td>\n",
       "    </tr>\n",
       "    <tr>\n",
       "      <th>179280</th>\n",
       "      <td>244</td>\n",
       "      <td>501</td>\n",
       "      <td>595</td>\n",
       "      <td>1921</td>\n",
       "      <td>False</td>\n",
       "    </tr>\n",
       "    <tr>\n",
       "      <th>179281</th>\n",
       "      <td>974082</td>\n",
       "      <td>249</td>\n",
       "      <td>79</td>\n",
       "      <td>200</td>\n",
       "      <td>False</td>\n",
       "    </tr>\n",
       "    <tr>\n",
       "      <th>179282</th>\n",
       "      <td>21439</td>\n",
       "      <td>10674</td>\n",
       "      <td>6621</td>\n",
       "      <td>4814</td>\n",
       "      <td>False</td>\n",
       "    </tr>\n",
       "    <tr>\n",
       "      <th>179283</th>\n",
       "      <td>401899</td>\n",
       "      <td>7127</td>\n",
       "      <td>65</td>\n",
       "      <td>790</td>\n",
       "      <td>False</td>\n",
       "    </tr>\n",
       "  </tbody>\n",
       "</table>\n",
       "</div>"
      ],
      "text/plain": [
       "        engaged_with_user_follower_count  engaged_with_user_following_count  \\\n",
       "179279                            323596                                277   \n",
       "179280                               244                                501   \n",
       "179281                            974082                                249   \n",
       "179282                             21439                              10674   \n",
       "179283                            401899                               7127   \n",
       "\n",
       "        engaging_user_follower_count  engaging_user_following_count  \\\n",
       "179279                           160                            333   \n",
       "179280                           595                           1921   \n",
       "179281                            79                            200   \n",
       "179282                          6621                           4814   \n",
       "179283                            65                            790   \n",
       "\n",
       "        retweet_with_comment  \n",
       "179279                 False  \n",
       "179280                 False  \n",
       "179281                 False  \n",
       "179282                 False  \n",
       "179283                 False  "
      ]
     },
     "execution_count": 8,
     "metadata": {},
     "output_type": "execute_result"
    }
   ],
   "source": [
    "df_test = df.iloc[int(len(df) * 0.8):]\n",
    "df_test.head()"
   ]
  },
  {
   "cell_type": "code",
   "execution_count": 9,
   "id": "9c3efac4",
   "metadata": {},
   "outputs": [],
   "source": [
    "dtrain = xgb.DMatrix(df_train[[\n",
    "    \"engaged_with_user_follower_count\",\n",
    "    \"engaged_with_user_following_count\",\n",
    "    \"engaging_user_follower_count\",\n",
    "    \"engaging_user_following_count\"\n",
    "]], df_train[\"retweet_with_comment\"])\n",
    "dtest = xgb.DMatrix(df_test[[\n",
    "    \"engaged_with_user_follower_count\",\n",
    "    \"engaged_with_user_following_count\",\n",
    "    \"engaging_user_follower_count\",\n",
    "    \"engaging_user_following_count\"\n",
    "]])"
   ]
  },
  {
   "cell_type": "code",
   "execution_count": 10,
   "id": "c68de606",
   "metadata": {},
   "outputs": [],
   "source": [
    "model = xgb.train(\n",
    "    {\n",
    "        \"objective\": \"binary:logistic\",\n",
    "        \"eval_metric\": \"logloss\",\n",
    "    },\n",
    "    dtrain\n",
    ")"
   ]
  },
  {
   "cell_type": "code",
   "execution_count": 11,
   "id": "975e9bba",
   "metadata": {},
   "outputs": [],
   "source": [
    "from sklearn.metrics import average_precision_score, log_loss\n",
    "\n",
    "def calculate_ctr(gt):\n",
    "    positive = len([x for x in gt if x == 1])\n",
    "    ctr = positive/float(len(gt))\n",
    "    return ctr\n",
    "\n",
    "def relative_cross_entropy_score(gt, pred):\n",
    "    cross_entropy = log_loss(gt, pred)\n",
    "    data_ctr = calculate_ctr(gt)\n",
    "    strawman_cross_entropy = log_loss(gt, [data_ctr for _ in range(len(gt))])\n",
    "    return (1.0 - cross_entropy/strawman_cross_entropy)*100.0\n",
    "\n",
    "def compute_score(y_true, y_score):\n",
    "    ap = average_precision_score(y_true, y_score)\n",
    "    rce = relative_cross_entropy_score(y_true, y_score)\n",
    "    return ap, rce"
   ]
  },
  {
   "cell_type": "code",
   "execution_count": 12,
   "id": "dccc1a7e",
   "metadata": {},
   "outputs": [
    {
     "data": {
      "text/plain": [
       "(0.007511916700584641, -31.76040075312956)"
      ]
     },
     "execution_count": 12,
     "metadata": {},
     "output_type": "execute_result"
    }
   ],
   "source": [
    "compute_score(df_test.retweet_with_comment, model.predict(dtest))"
   ]
  }
 ],
 "metadata": {
  "kernelspec": {
   "display_name": "Python 3",
   "language": "python",
   "name": "python3"
  },
  "language_info": {
   "codemirror_mode": {
    "name": "ipython",
    "version": 3
   },
   "file_extension": ".py",
   "mimetype": "text/x-python",
   "name": "python",
   "nbconvert_exporter": "python",
   "pygments_lexer": "ipython3",
   "version": "3.7.9"
  }
 },
 "nbformat": 4,
 "nbformat_minor": 5
}
