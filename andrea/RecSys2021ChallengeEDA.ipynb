{
 "cells": [
  {
   "cell_type": "markdown",
   "metadata": {
    "id": "view-in-github"
   },
   "source": [
    "<a href=\"https://colab.research.google.com/github/MAL-TO/recsys-2021/blob/feature%2Fadd-colab-files/RecSys2021ChallengeEDA.ipynb\" target=\"_parent\"><img src=\"https://colab.research.google.com/assets/colab-badge.svg\" alt=\"Open In Colab\"/></a>"
   ]
  },
  {
   "cell_type": "markdown",
   "metadata": {
    "id": "vWSNBIWNvC65"
   },
   "source": [
    "# Importing the sampled data"
   ]
  },
  {
   "cell_type": "markdown",
   "metadata": {
    "id": "QTumNcE6vkZ1"
   },
   "source": [
    "## Mount Google Drive"
   ]
  },
  {
   "cell_type": "code",
   "execution_count": 138,
   "metadata": {
    "executionInfo": {
     "elapsed": 1996,
     "status": "ok",
     "timestamp": 1618077427719,
     "user": {
      "displayName": "andrea cognolato",
      "photoUrl": "https://lh3.googleusercontent.com/a-/AOh14Ghy0-oVobUwwX8uL2Vxr7npmJiPGHZbCYP9oqLBxQ=s64",
      "userId": "06175870512917928361"
     },
     "user_tz": -120
    },
    "id": "RNdul8UPvF9k"
   },
   "outputs": [],
   "source": [
    "from google.colab import drive"
   ]
  },
  {
   "cell_type": "code",
   "execution_count": 139,
   "metadata": {
    "colab": {
     "base_uri": "https://localhost:8080/"
    },
    "executionInfo": {
     "elapsed": 1632,
     "status": "ok",
     "timestamp": 1618077429915,
     "user": {
      "displayName": "andrea cognolato",
      "photoUrl": "https://lh3.googleusercontent.com/a-/AOh14Ghy0-oVobUwwX8uL2Vxr7npmJiPGHZbCYP9oqLBxQ=s64",
      "userId": "06175870512917928361"
     },
     "user_tz": -120
    },
    "id": "TjM3Ex3svO3W",
    "outputId": "ea3f29ea-9234-4da5-ebb3-88f3ca98dcd1"
   },
   "outputs": [
    {
     "name": "stdout",
     "output_type": "stream",
     "text": [
      "Drive already mounted at /content/drive; to attempt to forcibly remount, call drive.mount(\"/content/drive\", force_remount=True).\n"
     ]
    }
   ],
   "source": [
    "drive.mount('/content/drive')"
   ]
  },
  {
   "cell_type": "markdown",
   "metadata": {
    "id": "FfIJSqhvLSBE"
   },
   "source": [
    "## Mount git repository hosted on your google Drive (optional)"
   ]
  },
  {
   "cell_type": "code",
   "execution_count": 140,
   "metadata": {
    "colab": {
     "base_uri": "https://localhost:8080/"
    },
    "executionInfo": {
     "elapsed": 1384,
     "status": "ok",
     "timestamp": 1618077432627,
     "user": {
      "displayName": "andrea cognolato",
      "photoUrl": "https://lh3.googleusercontent.com/a-/AOh14Ghy0-oVobUwwX8uL2Vxr7npmJiPGHZbCYP9oqLBxQ=s64",
      "userId": "06175870512917928361"
     },
     "user_tz": -120
    },
    "id": "ZYdFcUBEKZa5",
    "outputId": "5a67da54-691a-4915-9042-bd2787fbacac"
   },
   "outputs": [
    {
     "name": "stdout",
     "output_type": "stream",
     "text": [
      "/content/drive/MyDrive/Universita/MALTO/recsys-2021/colab\n"
     ]
    }
   ],
   "source": [
    "%cd /content/drive/MyDrive/Universita/MALTO/recsys-2021/colab/"
   ]
  },
  {
   "cell_type": "code",
   "execution_count": 141,
   "metadata": {
    "colab": {
     "base_uri": "https://localhost:8080/"
    },
    "executionInfo": {
     "elapsed": 1388,
     "status": "ok",
     "timestamp": 1618077435615,
     "user": {
      "displayName": "andrea cognolato",
      "photoUrl": "https://lh3.googleusercontent.com/a-/AOh14Ghy0-oVobUwwX8uL2Vxr7npmJiPGHZbCYP9oqLBxQ=s64",
      "userId": "06175870512917928361"
     },
     "user_tz": -120
    },
    "id": "i8r3zdl8KhAG",
    "outputId": "de3f0222-819f-4458-ae2f-3491088a78ea"
   },
   "outputs": [
    {
     "name": "stdout",
     "output_type": "stream",
     "text": [
      "On branch feature/add-colab-files\n",
      "Your branch is up to date with 'origin/feature/add-colab-files'.\n",
      "\n",
      "Changes not staged for commit:\n",
      "  (use \"git add <file>...\" to update what will be committed)\n",
      "  (use \"git checkout -- <file>...\" to discard changes in working directory)\n",
      "\n",
      "\t\u001b[31mmodified:   RecSys2021ChallengeEDA.ipynb\u001b[m\n",
      "\n",
      "no changes added to commit (use \"git add\" and/or \"git commit -a\")\n"
     ]
    }
   ],
   "source": [
    "!git status"
   ]
  },
  {
   "cell_type": "code",
   "execution_count": null,
   "metadata": {
    "id": "qBacXhbe7k-Z"
   },
   "outputs": [],
   "source": [
    "!git commit -am \"Initial implementation of Logistic Regression\""
   ]
  },
  {
   "cell_type": "markdown",
   "metadata": {
    "id": "dlGMlSAlvoC0"
   },
   "source": [
    "## Copy sampled data to local disk\n",
    "\n",
    "This assumes that you have added the 2M rows sampled data to your Google Drive"
   ]
  },
  {
   "cell_type": "code",
   "execution_count": 25,
   "metadata": {
    "executionInfo": {
     "elapsed": 3518,
     "status": "ok",
     "timestamp": 1618070307577,
     "user": {
      "displayName": "andrea cognolato",
      "photoUrl": "https://lh3.googleusercontent.com/a-/AOh14Ghy0-oVobUwwX8uL2Vxr7npmJiPGHZbCYP9oqLBxQ=s64",
      "userId": "06175870512917928361"
     },
     "user_tz": -120
    },
    "id": "N_4eBq1lvdLu"
   },
   "outputs": [],
   "source": [
    "!cp /content/drive/MyDrive/sample2m.parquet /content/sample2m.parquet"
   ]
  },
  {
   "cell_type": "markdown",
   "metadata": {
    "id": "gTZZDQKPvyQH"
   },
   "source": [
    "We expect to have a file called `sample2m` of about `1.1GB`."
   ]
  },
  {
   "cell_type": "code",
   "execution_count": 26,
   "metadata": {
    "colab": {
     "base_uri": "https://localhost:8080/"
    },
    "executionInfo": {
     "elapsed": 1350,
     "status": "ok",
     "timestamp": 1618070312700,
     "user": {
      "displayName": "andrea cognolato",
      "photoUrl": "https://lh3.googleusercontent.com/a-/AOh14Ghy0-oVobUwwX8uL2Vxr7npmJiPGHZbCYP9oqLBxQ=s64",
      "userId": "06175870512917928361"
     },
     "user_tz": -120
    },
    "id": "I7OstcVdvuT_",
    "outputId": "baf3002f-d187-486b-b7dc-a3dc5cc74522"
   },
   "outputs": [
    {
     "name": "stdout",
     "output_type": "stream",
     "text": [
      "total 528M\n",
      "drwxr-xr-x 1 root root 4.0K Apr 10 15:58 .\n",
      "drwxr-xr-x 1 root root 4.0K Apr 10 14:18 ..\n",
      "drwxr-xr-x 4 root root 4.0K Apr  7 13:35 .config\n",
      "drwx------ 5 root root 4.0K Apr 10 14:22 drive\n",
      "-rw------- 1 root root 528M Apr 10 15:58 sample2m.parquet\n",
      "drwxr-xr-x 1 root root 4.0K Apr  7 13:36 sample_data\n"
     ]
    }
   ],
   "source": [
    "!ls -alh /content"
   ]
  },
  {
   "cell_type": "markdown",
   "metadata": {
    "id": "pz6ml-M3v5O5"
   },
   "source": [
    "## Read data"
   ]
  },
  {
   "cell_type": "code",
   "execution_count": 8,
   "metadata": {
    "executionInfo": {
     "elapsed": 926,
     "status": "ok",
     "timestamp": 1618069955147,
     "user": {
      "displayName": "andrea cognolato",
      "photoUrl": "https://lh3.googleusercontent.com/a-/AOh14Ghy0-oVobUwwX8uL2Vxr7npmJiPGHZbCYP9oqLBxQ=s64",
      "userId": "06175870512917928361"
     },
     "user_tz": -120
    },
    "id": "A0jlier9wYcc"
   },
   "outputs": [],
   "source": [
    "import pandas as pd\n",
    "import numpy as np"
   ]
  },
  {
   "cell_type": "code",
   "execution_count": 29,
   "metadata": {
    "colab": {
     "base_uri": "https://localhost:8080/"
    },
    "executionInfo": {
     "elapsed": 22720,
     "status": "ok",
     "timestamp": 1618070389824,
     "user": {
      "displayName": "andrea cognolato",
      "photoUrl": "https://lh3.googleusercontent.com/a-/AOh14Ghy0-oVobUwwX8uL2Vxr7npmJiPGHZbCYP9oqLBxQ=s64",
      "userId": "06175870512917928361"
     },
     "user_tz": -120
    },
    "id": "Ts-QTzZlfDl1",
    "outputId": "80e6df34-11fa-4c7a-f671-133beb536354"
   },
   "outputs": [
    {
     "name": "stdout",
     "output_type": "stream",
     "text": [
      "CPU times: user 21.4 s, sys: 3.58 s, total: 25 s\n",
      "Wall time: 21.9 s\n"
     ]
    }
   ],
   "source": [
    "%%time\n",
    "df = pd.read_parquet('/content/sample2m.parquet');"
   ]
  },
  {
   "cell_type": "markdown",
   "metadata": {
    "id": "Kta02VHp_hGZ"
   },
   "source": [
    "# Data Analysis"
   ]
  },
  {
   "cell_type": "markdown",
   "metadata": {
    "id": "nYySNlShuELZ"
   },
   "source": [
    "## DataFrame statistics"
   ]
  },
  {
   "cell_type": "code",
   "execution_count": 30,
   "metadata": {
    "colab": {
     "base_uri": "https://localhost:8080/",
     "height": 254
    },
    "executionInfo": {
     "elapsed": 1027,
     "status": "ok",
     "timestamp": 1618070438278,
     "user": {
      "displayName": "andrea cognolato",
      "photoUrl": "https://lh3.googleusercontent.com/a-/AOh14Ghy0-oVobUwwX8uL2Vxr7npmJiPGHZbCYP9oqLBxQ=s64",
      "userId": "06175870512917928361"
     },
     "user_tz": -120
    },
    "id": "YzJwFDEEssuk",
    "outputId": "37645c04-09f2-4790-8b09-3bb91e3c28c0"
   },
   "outputs": [
    {
     "data": {
      "text/html": [
       "<div>\n",
       "<style scoped>\n",
       "    .dataframe tbody tr th:only-of-type {\n",
       "        vertical-align: middle;\n",
       "    }\n",
       "\n",
       "    .dataframe tbody tr th {\n",
       "        vertical-align: top;\n",
       "    }\n",
       "\n",
       "    .dataframe thead th {\n",
       "        text-align: right;\n",
       "    }\n",
       "</style>\n",
       "<table border=\"1\" class=\"dataframe\">\n",
       "  <thead>\n",
       "    <tr style=\"text-align: right;\">\n",
       "      <th></th>\n",
       "      <th>text_ tokens</th>\n",
       "      <th>hashtags</th>\n",
       "      <th>tweet_id</th>\n",
       "      <th>present_media</th>\n",
       "      <th>present_links</th>\n",
       "      <th>present_domains</th>\n",
       "      <th>tweet_type</th>\n",
       "      <th>language</th>\n",
       "      <th>tweet_timestamp</th>\n",
       "      <th>engaged_with_user_id</th>\n",
       "      <th>engaged_with_user_follower_count</th>\n",
       "      <th>engaged_with_user_following_count</th>\n",
       "      <th>engaged_with_user_is_verified</th>\n",
       "      <th>engaged_with_user_account_creation</th>\n",
       "      <th>engaging_user_id</th>\n",
       "      <th>engaging_user_follower_count</th>\n",
       "      <th>engaging_user_following_count</th>\n",
       "      <th>engaging_user_is_verified</th>\n",
       "      <th>engaging_user_account_creation</th>\n",
       "      <th>engagee_follows_engager</th>\n",
       "      <th>reply_timestamp</th>\n",
       "      <th>retweet_timestamp</th>\n",
       "      <th>retweet_with_comment_timestamp</th>\n",
       "      <th>like_timestamp</th>\n",
       "    </tr>\n",
       "  </thead>\n",
       "  <tbody>\n",
       "    <tr>\n",
       "      <th>0</th>\n",
       "      <td>[101, 100, 6247, 3823, 100, 216, 3770, 10827, ...</td>\n",
       "      <td>None</td>\n",
       "      <td>82858A8A9899B1437BCFC5D97ECED8B8</td>\n",
       "      <td>None</td>\n",
       "      <td>[24F3875A3FEE1DA4B7BCD346EF4A7066]</td>\n",
       "      <td>[3C0DB64B05242E8A7ED51F93785AA091]</td>\n",
       "      <td>Quote</td>\n",
       "      <td>E7F038DE3EAD397AEC9193686C911677</td>\n",
       "      <td>2021-02-07 14:16:21</td>\n",
       "      <td>E1054B3E0E8E9DA570D817F51A73885E</td>\n",
       "      <td>675</td>\n",
       "      <td>696</td>\n",
       "      <td>False</td>\n",
       "      <td>2020-02-29 07:35:34</td>\n",
       "      <td>140434A8754F70323B7BBAE809B65B29</td>\n",
       "      <td>571</td>\n",
       "      <td>742</td>\n",
       "      <td>False</td>\n",
       "      <td>2011-04-26 02:19:20</td>\n",
       "      <td>True</td>\n",
       "      <td>NaT</td>\n",
       "      <td>NaT</td>\n",
       "      <td>NaT</td>\n",
       "      <td>2021-02-07 14:21:10</td>\n",
       "    </tr>\n",
       "  </tbody>\n",
       "</table>\n",
       "</div>"
      ],
      "text/plain": [
       "                                        text_ tokens  ...      like_timestamp\n",
       "0  [101, 100, 6247, 3823, 100, 216, 3770, 10827, ...  ... 2021-02-07 14:21:10\n",
       "\n",
       "[1 rows x 24 columns]"
      ]
     },
     "execution_count": 30,
     "metadata": {
      "tags": []
     },
     "output_type": "execute_result"
    }
   ],
   "source": [
    "df.head(1)"
   ]
  },
  {
   "cell_type": "code",
   "execution_count": 31,
   "metadata": {
    "colab": {
     "base_uri": "https://localhost:8080/"
    },
    "executionInfo": {
     "elapsed": 1077,
     "status": "ok",
     "timestamp": 1618070447205,
     "user": {
      "displayName": "andrea cognolato",
      "photoUrl": "https://lh3.googleusercontent.com/a-/AOh14Ghy0-oVobUwwX8uL2Vxr7npmJiPGHZbCYP9oqLBxQ=s64",
      "userId": "06175870512917928361"
     },
     "user_tz": -120
    },
    "id": "S0FeLBnz8UFa",
    "outputId": "688413c1-afb3-4963-92aa-1f34f5f7bd53"
   },
   "outputs": [
    {
     "name": "stdout",
     "output_type": "stream",
     "text": [
      "<class 'pandas.core.frame.DataFrame'>\n",
      "RangeIndex: 2241793 entries, 0 to 2241792\n",
      "Data columns (total 24 columns):\n",
      " #   Column                              Dtype         \n",
      "---  ------                              -----         \n",
      " 0   text_ tokens                        object        \n",
      " 1   hashtags                            object        \n",
      " 2   tweet_id                            object        \n",
      " 3   present_media                       object        \n",
      " 4   present_links                       object        \n",
      " 5   present_domains                     object        \n",
      " 6   tweet_type                          category      \n",
      " 7   language                            object        \n",
      " 8   tweet_timestamp                     datetime64[ns]\n",
      " 9   engaged_with_user_id                object        \n",
      " 10  engaged_with_user_follower_count    int64         \n",
      " 11  engaged_with_user_following_count   int64         \n",
      " 12  engaged_with_user_is_verified       bool          \n",
      " 13  engaged_with_user_account_creation  datetime64[ns]\n",
      " 14  engaging_user_id                    object        \n",
      " 15  engaging_user_follower_count        int64         \n",
      " 16  engaging_user_following_count       int64         \n",
      " 17  engaging_user_is_verified           bool          \n",
      " 18  engaging_user_account_creation      datetime64[ns]\n",
      " 19  engagee_follows_engager             bool          \n",
      " 20  reply_timestamp                     datetime64[ns]\n",
      " 21  retweet_timestamp                   datetime64[ns]\n",
      " 22  retweet_with_comment_timestamp      datetime64[ns]\n",
      " 23  like_timestamp                      datetime64[ns]\n",
      "dtypes: bool(3), category(1), datetime64[ns](7), int64(4), object(9)\n",
      "memory usage: 350.6+ MB\n"
     ]
    }
   ],
   "source": [
    "df.info()"
   ]
  },
  {
   "cell_type": "markdown",
   "metadata": {
    "id": "Bk0HXCzfuHX2"
   },
   "source": [
    "## Drop unused columns"
   ]
  },
  {
   "cell_type": "code",
   "execution_count": 32,
   "metadata": {
    "executionInfo": {
     "elapsed": 1138,
     "status": "ok",
     "timestamp": 1618070532079,
     "user": {
      "displayName": "andrea cognolato",
      "photoUrl": "https://lh3.googleusercontent.com/a-/AOh14Ghy0-oVobUwwX8uL2Vxr7npmJiPGHZbCYP9oqLBxQ=s64",
      "userId": "06175870512917928361"
     },
     "user_tz": -120
    },
    "id": "mYkxCGFRuOtH"
   },
   "outputs": [],
   "source": [
    "df.drop(columns=['text_ tokens', 'hashtags', 'present_media', 'present_links', 'present_domains'], inplace=True)"
   ]
  },
  {
   "cell_type": "markdown",
   "metadata": {
    "id": "MJG3leReh9RM"
   },
   "source": [
    "## Binary encode target columns"
   ]
  },
  {
   "cell_type": "code",
   "execution_count": 34,
   "metadata": {
    "executionInfo": {
     "elapsed": 1034,
     "status": "ok",
     "timestamp": 1618070576625,
     "user": {
      "displayName": "andrea cognolato",
      "photoUrl": "https://lh3.googleusercontent.com/a-/AOh14Ghy0-oVobUwwX8uL2Vxr7npmJiPGHZbCYP9oqLBxQ=s64",
      "userId": "06175870512917928361"
     },
     "user_tz": -120
    },
    "id": "OgMIRheYhSwc"
   },
   "outputs": [],
   "source": [
    "target_cols = [\n",
    "  \"reply_timestamp\",\n",
    "  \"retweet_timestamp\",\n",
    "  \"retweet_with_comment_timestamp\",\n",
    "  \"like_timestamp\"\n",
    "]"
   ]
  },
  {
   "cell_type": "code",
   "execution_count": 35,
   "metadata": {
    "executionInfo": {
     "elapsed": 1410,
     "status": "ok",
     "timestamp": 1618070582552,
     "user": {
      "displayName": "andrea cognolato",
      "photoUrl": "https://lh3.googleusercontent.com/a-/AOh14Ghy0-oVobUwwX8uL2Vxr7npmJiPGHZbCYP9oqLBxQ=s64",
      "userId": "06175870512917928361"
     },
     "user_tz": -120
    },
    "id": "JEL0XJ6i8wof"
   },
   "outputs": [],
   "source": [
    "df[target_cols] = df[target_cols].notnull()"
   ]
  },
  {
   "cell_type": "code",
   "execution_count": 36,
   "metadata": {
    "colab": {
     "base_uri": "https://localhost:8080/",
     "height": 305
    },
    "executionInfo": {
     "elapsed": 1226,
     "status": "ok",
     "timestamp": 1618070588030,
     "user": {
      "displayName": "andrea cognolato",
      "photoUrl": "https://lh3.googleusercontent.com/a-/AOh14Ghy0-oVobUwwX8uL2Vxr7npmJiPGHZbCYP9oqLBxQ=s64",
      "userId": "06175870512917928361"
     },
     "user_tz": -120
    },
    "id": "jgcxVUSGhbmq",
    "outputId": "f0c17be3-ebb8-4c8d-a8d4-bc6b24832bf4"
   },
   "outputs": [
    {
     "data": {
      "text/html": [
       "<div>\n",
       "<style scoped>\n",
       "    .dataframe tbody tr th:only-of-type {\n",
       "        vertical-align: middle;\n",
       "    }\n",
       "\n",
       "    .dataframe tbody tr th {\n",
       "        vertical-align: top;\n",
       "    }\n",
       "\n",
       "    .dataframe thead th {\n",
       "        text-align: right;\n",
       "    }\n",
       "</style>\n",
       "<table border=\"1\" class=\"dataframe\">\n",
       "  <thead>\n",
       "    <tr style=\"text-align: right;\">\n",
       "      <th></th>\n",
       "      <th>tweet_id</th>\n",
       "      <th>tweet_type</th>\n",
       "      <th>language</th>\n",
       "      <th>tweet_timestamp</th>\n",
       "      <th>engaged_with_user_id</th>\n",
       "      <th>engaged_with_user_follower_count</th>\n",
       "      <th>engaged_with_user_following_count</th>\n",
       "      <th>engaged_with_user_is_verified</th>\n",
       "      <th>engaged_with_user_account_creation</th>\n",
       "      <th>engaging_user_id</th>\n",
       "      <th>engaging_user_follower_count</th>\n",
       "      <th>engaging_user_following_count</th>\n",
       "      <th>engaging_user_is_verified</th>\n",
       "      <th>engaging_user_account_creation</th>\n",
       "      <th>engagee_follows_engager</th>\n",
       "      <th>reply_timestamp</th>\n",
       "      <th>retweet_timestamp</th>\n",
       "      <th>retweet_with_comment_timestamp</th>\n",
       "      <th>like_timestamp</th>\n",
       "    </tr>\n",
       "  </thead>\n",
       "  <tbody>\n",
       "    <tr>\n",
       "      <th>0</th>\n",
       "      <td>82858A8A9899B1437BCFC5D97ECED8B8</td>\n",
       "      <td>Quote</td>\n",
       "      <td>E7F038DE3EAD397AEC9193686C911677</td>\n",
       "      <td>2021-02-07 14:16:21</td>\n",
       "      <td>E1054B3E0E8E9DA570D817F51A73885E</td>\n",
       "      <td>675</td>\n",
       "      <td>696</td>\n",
       "      <td>False</td>\n",
       "      <td>2020-02-29 07:35:34</td>\n",
       "      <td>140434A8754F70323B7BBAE809B65B29</td>\n",
       "      <td>571</td>\n",
       "      <td>742</td>\n",
       "      <td>False</td>\n",
       "      <td>2011-04-26 02:19:20</td>\n",
       "      <td>True</td>\n",
       "      <td>False</td>\n",
       "      <td>False</td>\n",
       "      <td>False</td>\n",
       "      <td>True</td>\n",
       "    </tr>\n",
       "    <tr>\n",
       "      <th>1</th>\n",
       "      <td>6F3527024A1B32F0072F284C7D61CE1D</td>\n",
       "      <td>TopLevel</td>\n",
       "      <td>488B32D24BD4BB44172EB981C1BCA6FA</td>\n",
       "      <td>2021-02-11 17:05:57</td>\n",
       "      <td>8923CE7F418F653A6B8E93F255C21FB4</td>\n",
       "      <td>453</td>\n",
       "      <td>367</td>\n",
       "      <td>False</td>\n",
       "      <td>2014-09-04 12:55:09</td>\n",
       "      <td>E022AD787B2BE6ED64DA7660A23F1C7B</td>\n",
       "      <td>111</td>\n",
       "      <td>42</td>\n",
       "      <td>False</td>\n",
       "      <td>2012-12-09 03:19:34</td>\n",
       "      <td>True</td>\n",
       "      <td>False</td>\n",
       "      <td>False</td>\n",
       "      <td>False</td>\n",
       "      <td>True</td>\n",
       "    </tr>\n",
       "    <tr>\n",
       "      <th>2</th>\n",
       "      <td>7E061D1B6C5EECA0EAE12EC115BDB38F</td>\n",
       "      <td>TopLevel</td>\n",
       "      <td>DA13A5C3763C212D9D68FC69102DE5E5</td>\n",
       "      <td>2021-02-04 10:36:57</td>\n",
       "      <td>6EC14E96E26DCEE96EBC0CD520FF65E2</td>\n",
       "      <td>36033</td>\n",
       "      <td>261</td>\n",
       "      <td>True</td>\n",
       "      <td>2014-10-17 10:41:42</td>\n",
       "      <td>EAE4AFB8A76F7036655FC33174D963E3</td>\n",
       "      <td>47</td>\n",
       "      <td>899</td>\n",
       "      <td>False</td>\n",
       "      <td>2020-09-10 10:17:40</td>\n",
       "      <td>False</td>\n",
       "      <td>False</td>\n",
       "      <td>False</td>\n",
       "      <td>False</td>\n",
       "      <td>False</td>\n",
       "    </tr>\n",
       "    <tr>\n",
       "      <th>3</th>\n",
       "      <td>764D7AA478DC4258E2144F7AE52958CE</td>\n",
       "      <td>TopLevel</td>\n",
       "      <td>B0FA488F2911701DD8EC5B1EA5E322D8</td>\n",
       "      <td>2021-02-09 23:10:55</td>\n",
       "      <td>57702B3903145012E8B17BD77000DDAA</td>\n",
       "      <td>278571</td>\n",
       "      <td>309</td>\n",
       "      <td>False</td>\n",
       "      <td>2010-11-24 03:32:07</td>\n",
       "      <td>4E0E262086AB0338615CBD8C8EA09E8E</td>\n",
       "      <td>49</td>\n",
       "      <td>692</td>\n",
       "      <td>False</td>\n",
       "      <td>2016-05-13 03:46:20</td>\n",
       "      <td>False</td>\n",
       "      <td>False</td>\n",
       "      <td>False</td>\n",
       "      <td>False</td>\n",
       "      <td>True</td>\n",
       "    </tr>\n",
       "    <tr>\n",
       "      <th>4</th>\n",
       "      <td>462A952971A021886F292669D2B7C740</td>\n",
       "      <td>Retweet</td>\n",
       "      <td>1F73BB863A39DB62B4A55B7E558DB1E8</td>\n",
       "      <td>2021-02-10 20:04:20</td>\n",
       "      <td>E9CB4529426EED1A94EAF4C2CDBA6586</td>\n",
       "      <td>1092</td>\n",
       "      <td>947</td>\n",
       "      <td>False</td>\n",
       "      <td>2020-03-27 21:44:36</td>\n",
       "      <td>1AA980868659C6424D37F6989E0A75B3</td>\n",
       "      <td>531</td>\n",
       "      <td>230</td>\n",
       "      <td>False</td>\n",
       "      <td>2012-09-07 06:40:45</td>\n",
       "      <td>True</td>\n",
       "      <td>False</td>\n",
       "      <td>False</td>\n",
       "      <td>False</td>\n",
       "      <td>False</td>\n",
       "    </tr>\n",
       "  </tbody>\n",
       "</table>\n",
       "</div>"
      ],
      "text/plain": [
       "                           tweet_id  ... like_timestamp\n",
       "0  82858A8A9899B1437BCFC5D97ECED8B8  ...           True\n",
       "1  6F3527024A1B32F0072F284C7D61CE1D  ...           True\n",
       "2  7E061D1B6C5EECA0EAE12EC115BDB38F  ...          False\n",
       "3  764D7AA478DC4258E2144F7AE52958CE  ...           True\n",
       "4  462A952971A021886F292669D2B7C740  ...          False\n",
       "\n",
       "[5 rows x 19 columns]"
      ]
     },
     "execution_count": 36,
     "metadata": {
      "tags": []
     },
     "output_type": "execute_result"
    }
   ],
   "source": [
    "df.head()"
   ]
  },
  {
   "cell_type": "markdown",
   "metadata": {
    "id": "MoSHxHsDuAAJ"
   },
   "source": [
    "## Target columns statistics"
   ]
  },
  {
   "cell_type": "code",
   "execution_count": 42,
   "metadata": {
    "colab": {
     "base_uri": "https://localhost:8080/"
    },
    "executionInfo": {
     "elapsed": 1252,
     "status": "ok",
     "timestamp": 1618070754364,
     "user": {
      "displayName": "andrea cognolato",
      "photoUrl": "https://lh3.googleusercontent.com/a-/AOh14Ghy0-oVobUwwX8uL2Vxr7npmJiPGHZbCYP9oqLBxQ=s64",
      "userId": "06175870512917928361"
     },
     "user_tz": -120
    },
    "id": "ca7CbfauJ2lK",
    "outputId": "7177a463-c3b0-4656-df7b-f25df6d94b4a"
   },
   "outputs": [
    {
     "data": {
      "text/plain": [
       "0    1125933\n",
       "1    1065104\n",
       "2      49160\n",
       "3       1571\n",
       "4         25\n",
       "dtype: int64"
      ]
     },
     "execution_count": 42,
     "metadata": {
      "tags": []
     },
     "output_type": "execute_result"
    }
   ],
   "source": [
    "target_cols = [\"retweet_timestamp\", \"reply_timestamp\", \"like_timestamp\",\n",
    "               \"retweet_with_comment_timestamp\",]\n",
    "df[target_cols].sum(axis=1).value_counts()"
   ]
  },
  {
   "cell_type": "markdown",
   "metadata": {
    "id": "GOQuB-BzihSq"
   },
   "source": [
    "## Convert to numpy"
   ]
  },
  {
   "cell_type": "code",
   "execution_count": 103,
   "metadata": {
    "colab": {
     "base_uri": "https://localhost:8080/"
    },
    "executionInfo": {
     "elapsed": 939,
     "status": "ok",
     "timestamp": 1618072613403,
     "user": {
      "displayName": "andrea cognolato",
      "photoUrl": "https://lh3.googleusercontent.com/a-/AOh14Ghy0-oVobUwwX8uL2Vxr7npmJiPGHZbCYP9oqLBxQ=s64",
      "userId": "06175870512917928361"
     },
     "user_tz": -120
    },
    "id": "0R3QGNZsijyJ",
    "outputId": "239a79d1-21e8-4e38-b300-de2bcf982267"
   },
   "outputs": [
    {
     "data": {
      "text/plain": [
       "((2241793, 4), 68.41409301757812)"
      ]
     },
     "execution_count": 103,
     "metadata": {
      "tags": []
     },
     "output_type": "execute_result"
    }
   ],
   "source": [
    "Y = df[target_cols].to_numpy().astype(np.float)\n",
    "Y.shape, Y.nbytes / 1024**2"
   ]
  },
  {
   "cell_type": "markdown",
   "metadata": {
    "id": "fZUp0XTUi9e5"
   },
   "source": [
    "## Extract numerical features"
   ]
  },
  {
   "cell_type": "code",
   "execution_count": 101,
   "metadata": {
    "executionInfo": {
     "elapsed": 1084,
     "status": "ok",
     "timestamp": 1618072598635,
     "user": {
      "displayName": "andrea cognolato",
      "photoUrl": "https://lh3.googleusercontent.com/a-/AOh14Ghy0-oVobUwwX8uL2Vxr7npmJiPGHZbCYP9oqLBxQ=s64",
      "userId": "06175870512917928361"
     },
     "user_tz": -120
    },
    "id": "p0T36sRPjIRz"
   },
   "outputs": [],
   "source": [
    "X_numerical_categorical = df.select_dtypes(['number']).to_numpy().astype(np.float)"
   ]
  },
  {
   "cell_type": "code",
   "execution_count": 102,
   "metadata": {
    "colab": {
     "base_uri": "https://localhost:8080/"
    },
    "executionInfo": {
     "elapsed": 972,
     "status": "ok",
     "timestamp": 1618072604444,
     "user": {
      "displayName": "andrea cognolato",
      "photoUrl": "https://lh3.googleusercontent.com/a-/AOh14Ghy0-oVobUwwX8uL2Vxr7npmJiPGHZbCYP9oqLBxQ=s64",
      "userId": "06175870512917928361"
     },
     "user_tz": -120
    },
    "id": "-Gg12onCjykJ",
    "outputId": "67bdcd3c-2748-4fac-d76b-2a22d01786af"
   },
   "outputs": [
    {
     "data": {
      "text/plain": [
       "((2241793, 4), 68.41409301757812)"
      ]
     },
     "execution_count": 102,
     "metadata": {
      "tags": []
     },
     "output_type": "execute_result"
    }
   ],
   "source": [
    "X_numerical_categorical.shape, X_numerical_categorical.nbytes / 1024**2"
   ]
  },
  {
   "cell_type": "markdown",
   "metadata": {
    "id": "gsVr3vO6iFks"
   },
   "source": [
    "# Model"
   ]
  },
  {
   "cell_type": "markdown",
   "metadata": {
    "id": "9Rn1XFOrkvVK"
   },
   "source": [
    "## Splitting train and test"
   ]
  },
  {
   "cell_type": "code",
   "execution_count": 105,
   "metadata": {
    "executionInfo": {
     "elapsed": 1029,
     "status": "ok",
     "timestamp": 1618072621657,
     "user": {
      "displayName": "andrea cognolato",
      "photoUrl": "https://lh3.googleusercontent.com/a-/AOh14Ghy0-oVobUwwX8uL2Vxr7npmJiPGHZbCYP9oqLBxQ=s64",
      "userId": "06175870512917928361"
     },
     "user_tz": -120
    },
    "id": "6cRtk2GAk2Ic"
   },
   "outputs": [],
   "source": [
    "from sklearn.model_selection import train_test_split"
   ]
  },
  {
   "cell_type": "code",
   "execution_count": 106,
   "metadata": {
    "executionInfo": {
     "elapsed": 1718,
     "status": "ok",
     "timestamp": 1618072623911,
     "user": {
      "displayName": "andrea cognolato",
      "photoUrl": "https://lh3.googleusercontent.com/a-/AOh14Ghy0-oVobUwwX8uL2Vxr7npmJiPGHZbCYP9oqLBxQ=s64",
      "userId": "06175870512917928361"
     },
     "user_tz": -120
    },
    "id": "CS4VDAmaky_7"
   },
   "outputs": [],
   "source": [
    "X_train, X_test, Y_train, Y_test = train_test_split(X_numerical_categorical, Y)"
   ]
  },
  {
   "cell_type": "code",
   "execution_count": 107,
   "metadata": {
    "colab": {
     "base_uri": "https://localhost:8080/"
    },
    "executionInfo": {
     "elapsed": 928,
     "status": "ok",
     "timestamp": 1618072625578,
     "user": {
      "displayName": "andrea cognolato",
      "photoUrl": "https://lh3.googleusercontent.com/a-/AOh14Ghy0-oVobUwwX8uL2Vxr7npmJiPGHZbCYP9oqLBxQ=s64",
      "userId": "06175870512917928361"
     },
     "user_tz": -120
    },
    "id": "Ibdco6VDlDR1",
    "outputId": "c26a04f5-35a7-4567-fdf6-3d2357b8b463"
   },
   "outputs": [
    {
     "data": {
      "text/plain": [
       "((1681344, 4), (560449, 4), (1681344, 4), (560449, 4))"
      ]
     },
     "execution_count": 107,
     "metadata": {
      "tags": []
     },
     "output_type": "execute_result"
    }
   ],
   "source": [
    "X_train.shape, X_test.shape, Y_train.shape, Y_test.shape"
   ]
  },
  {
   "cell_type": "markdown",
   "metadata": {
    "id": "mPDCUNWgk-mV"
   },
   "source": [
    "## Logistic Regression Model"
   ]
  },
  {
   "cell_type": "code",
   "execution_count": 108,
   "metadata": {
    "executionInfo": {
     "elapsed": 1053,
     "status": "ok",
     "timestamp": 1618072628073,
     "user": {
      "displayName": "andrea cognolato",
      "photoUrl": "https://lh3.googleusercontent.com/a-/AOh14Ghy0-oVobUwwX8uL2Vxr7npmJiPGHZbCYP9oqLBxQ=s64",
      "userId": "06175870512917928361"
     },
     "user_tz": -120
    },
    "id": "xIXjxGoGiHxu"
   },
   "outputs": [],
   "source": [
    "from sklearn.linear_model import LogisticRegression\n",
    "from sklearn.multioutput import MultiOutputRegressor"
   ]
  },
  {
   "cell_type": "code",
   "execution_count": 109,
   "metadata": {
    "colab": {
     "base_uri": "https://localhost:8080/"
    },
    "executionInfo": {
     "elapsed": 70649,
     "status": "ok",
     "timestamp": 1618072699210,
     "user": {
      "displayName": "andrea cognolato",
      "photoUrl": "https://lh3.googleusercontent.com/a-/AOh14Ghy0-oVobUwwX8uL2Vxr7npmJiPGHZbCYP9oqLBxQ=s64",
      "userId": "06175870512917928361"
     },
     "user_tz": -120
    },
    "id": "WZ0xHyMYj60X",
    "outputId": "f8e5ba1b-8e91-4f09-8aac-7da427fcd0fa"
   },
   "outputs": [
    {
     "name": "stdout",
     "output_type": "stream",
     "text": [
      "CPU times: user 483 ms, sys: 170 ms, total: 653 ms\n",
      "Wall time: 1min 9s\n"
     ]
    }
   ],
   "source": [
    "%%time\n",
    "clf = MultiOutputRegressor(LogisticRegression(), n_jobs=-1).fit(X_train, Y_train)"
   ]
  },
  {
   "cell_type": "code",
   "execution_count": 137,
   "metadata": {
    "colab": {
     "base_uri": "https://localhost:8080/"
    },
    "executionInfo": {
     "elapsed": 5175,
     "status": "ok",
     "timestamp": 1618073313428,
     "user": {
      "displayName": "andrea cognolato",
      "photoUrl": "https://lh3.googleusercontent.com/a-/AOh14Ghy0-oVobUwwX8uL2Vxr7npmJiPGHZbCYP9oqLBxQ=s64",
      "userId": "06175870512917928361"
     },
     "user_tz": -120
    },
    "id": "9UAKG9zKqwfj",
    "outputId": "39ded858-54f7-4dd7-fb2a-ccff19f80b1a"
   },
   "outputs": [
    {
     "name": "stdout",
     "output_type": "stream",
     "text": [
      "retweet_timestamp              AP 0.0882, RE -920.9957\n",
      "reply_timestamp                AP 0.0292, RE -664.4993\n",
      "like_timestamp                 AP 0.3970, RE -1940.9649\n",
      "retweet_with_comment_timestamp AP 0.0069, RE -478.7192\n"
     ]
    }
   ],
   "source": [
    "for i, target_col in enumerate(target_cols):\n",
    "  ground_truth = Y_test[:, i]\n",
    "  predictions = clf.predict(X_test)[:, i]\n",
    "\n",
    "  ap = average_precision_score(ground_truth, predictions)\n",
    "  rce = compute_rce(predictions, ground_truth)\n",
    "  print(f'{target_col:30} AP {ap:.4f}, RE {rce:.4f}')"
   ]
  },
  {
   "cell_type": "markdown",
   "metadata": {
    "id": "3N9ZM-ucBaBi"
   },
   "source": [
    "# Compute metrics"
   ]
  },
  {
   "cell_type": "markdown",
   "metadata": {
    "id": "O25fnSLTEqse"
   },
   "source": [
    "## Random baseline"
   ]
  },
  {
   "cell_type": "markdown",
   "metadata": {
    "id": "zw1S5hZhEWGs"
   },
   "source": [
    "The numbers should look something like this:\n",
    "```\n",
    "User \tMethod \tAP Retweet \tRCE Retweet \tAP Reply \tRCE Reply \tAP Like \tRCE Like \tAP RT with comment \tRCE RT with comment \tTime Taken \tOverall Score\n",
    "\n",
    "4 \talykhantejani \trand_predictions \t0.0812 \t-254.8419 \t0.0233 \t-804.2548 \t0.3989 \t-48.6696 \t0.0058 \t-2698.8520 \t0 hours \t10\n",
    "```"
   ]
  },
  {
   "cell_type": "code",
   "execution_count": null,
   "metadata": {
    "id": "7iS7wG_jBTyT"
   },
   "outputs": [],
   "source": [
    "from sklearn.metrics import average_precision_score, log_loss\n",
    "\n",
    "def calculate_ctr(gt):\n",
    "  positive = len([x for x in gt if x == 1])\n",
    "  ctr = positive/float(len(gt))\n",
    "  return ctr\n",
    "\n",
    "def compute_rce(pred, gt):\n",
    "    cross_entropy = log_loss(gt, pred)\n",
    "    data_ctr = calculate_ctr(gt)\n",
    "    strawman_cross_entropy = log_loss(gt, [data_ctr for _ in range(len(gt))])\n",
    "    return (1.0 - cross_entropy/strawman_cross_entropy)*100.0"
   ]
  },
  {
   "cell_type": "code",
   "execution_count": 136,
   "metadata": {
    "colab": {
     "base_uri": "https://localhost:8080/"
    },
    "executionInfo": {
     "elapsed": 5016,
     "status": "ok",
     "timestamp": 1618073284941,
     "user": {
      "displayName": "andrea cognolato",
      "photoUrl": "https://lh3.googleusercontent.com/a-/AOh14Ghy0-oVobUwwX8uL2Vxr7npmJiPGHZbCYP9oqLBxQ=s64",
      "userId": "06175870512917928361"
     },
     "user_tz": -120
    },
    "id": "JFpI7MbHqRug",
    "outputId": "5c7181f9-53d6-4964-8a0f-156e32879373"
   },
   "outputs": [
    {
     "name": "stdout",
     "output_type": "stream",
     "text": [
      "retweet_timestamp              AP 0.0882, RE -234.8539\n",
      "reply_timestamp                AP 0.0289, RE -657.1957\n",
      "like_timestamp                 AP 0.3963, RE -48.9426\n",
      "retweet_with_comment_timestamp AP 0.0071, RE -2314.2657\n"
     ]
    }
   ],
   "source": [
    "for i, target_col in enumerate(target_cols):\n",
    "  ground_truth = Y_test[:, i]\n",
    "  predictions = np.random.rand(*ground_truth.shape)\n",
    "\n",
    "  ap = average_precision_score(ground_truth, predictions)\n",
    "  rce = compute_rce(predictions, ground_truth)\n",
    "  print(f'{target_col:30} AP {ap:.4f}, RE {rce:.4f}')"
   ]
  }
 ],
 "metadata": {
  "colab": {
   "collapsed_sections": [
    "vWSNBIWNvC65"
   ],
   "name": "RecSys2021ChallengeEDA.ipynb",
   "provenance": []
  },
  "environment": {
   "name": "common-cpu.m65",
   "type": "gcloud",
   "uri": "gcr.io/deeplearning-platform-release/base-cpu:m65"
  },
  "kernelspec": {
   "display_name": "Python 3",
   "language": "python",
   "name": "python3"
  },
  "language_info": {
   "codemirror_mode": {
    "name": "ipython",
    "version": 3
   },
   "file_extension": ".py",
   "mimetype": "text/x-python",
   "name": "python",
   "nbconvert_exporter": "python",
   "pygments_lexer": "ipython3",
   "version": "3.7.10"
  }
 },
 "nbformat": 4,
 "nbformat_minor": 4
}
