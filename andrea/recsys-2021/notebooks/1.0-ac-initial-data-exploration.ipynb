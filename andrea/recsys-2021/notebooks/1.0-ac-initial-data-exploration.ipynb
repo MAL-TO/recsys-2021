{
 "cells": [
  {
   "cell_type": "markdown",
   "id": "acute-protection",
   "metadata": {},
   "source": [
    "# Initial data exploration"
   ]
  },
  {
   "cell_type": "code",
   "execution_count": 2,
   "id": "sorted-treasure",
   "metadata": {},
   "outputs": [],
   "source": [
    "import numpy as np\n",
    "import pandas as pd\n",
    "import matplotlib.pyplot as plt\n",
    "import seaborn as sns\n",
    "%config InlineBackend.figure_format='retina'\n",
    "sns.set()"
   ]
  },
  {
   "cell_type": "code",
   "execution_count": 6,
   "id": "configured-ukraine",
   "metadata": {},
   "outputs": [
    {
     "name": "stdout",
     "output_type": "stream",
     "text": [
      "CPU times: user 23.5 s, sys: 6.53 s, total: 30.1 s\n",
      "Wall time: 26.4 s\n"
     ]
    }
   ],
   "source": [
    "%%time\n",
    "df = pd.read_parquet('../data/interim/sample2m.parquet')"
   ]
  },
  {
   "cell_type": "markdown",
   "id": "contemporary-milan",
   "metadata": {},
   "source": [
    "## Target columns"
   ]
  },
  {
   "cell_type": "code",
   "execution_count": 18,
   "id": "geographic-ethiopia",
   "metadata": {},
   "outputs": [],
   "source": [
    "target_columns = ['reply_timestamp', 'retweet_timestamp','retweet_with_comment_timestamp', 'like_timestamp']"
   ]
  },
  {
   "cell_type": "code",
   "execution_count": 64,
   "id": "framed-fifteen",
   "metadata": {},
   "outputs": [
    {
     "name": "stdout",
     "output_type": "stream",
     "text": [
      "<class 'pandas.core.frame.DataFrame'>\n",
      "RangeIndex: 2241793 entries, 0 to 2241792\n",
      "Data columns (total 4 columns):\n",
      " #   Column                          Dtype         \n",
      "---  ------                          -----         \n",
      " 0   reply_timestamp                 datetime64[ns]\n",
      " 1   retweet_timestamp               datetime64[ns]\n",
      " 2   retweet_with_comment_timestamp  datetime64[ns]\n",
      " 3   like_timestamp                  datetime64[ns]\n",
      "dtypes: datetime64[ns](4)\n",
      "memory usage: 68.4 MB\n"
     ]
    }
   ],
   "source": [
    "df[target_columns].info()"
   ]
  },
  {
   "cell_type": "markdown",
   "id": "precise-nevada",
   "metadata": {},
   "source": [
    "Positive and negative interactions are balanced"
   ]
  },
  {
   "cell_type": "code",
   "execution_count": 37,
   "id": "filled-geneva",
   "metadata": {},
   "outputs": [
    {
     "data": {
      "text/plain": [
       "False    0.502247\n",
       "True     0.497753\n",
       "dtype: float64"
      ]
     },
     "execution_count": 37,
     "metadata": {},
     "output_type": "execute_result"
    }
   ],
   "source": [
    "df[target_columns].notnull().sum(axis=1).apply(lambda x: x > 0).value_counts(normalize=True)"
   ]
  },
  {
   "cell_type": "markdown",
   "id": "dying-count",
   "metadata": {},
   "source": [
    "The different kinds of positive interactions are really unbalanced"
   ]
  },
  {
   "cell_type": "code",
   "execution_count": 73,
   "id": "detailed-denial",
   "metadata": {},
   "outputs": [
    {
     "name": "stdout",
     "output_type": "stream",
     "text": [
      "reply_timestamp\n",
      "False    97.085815\n",
      "True      2.914185\n",
      "Name: reply_timestamp, dtype: float64\n",
      "retweet_timestamp\n",
      "False    91.237371\n",
      "True      8.762629\n",
      "Name: retweet_timestamp, dtype: float64\n",
      "retweet_with_comment_timestamp\n",
      "False    99.303192\n",
      "True      0.696808\n",
      "Name: retweet_with_comment_timestamp, dtype: float64\n",
      "like_timestamp\n",
      "False    60.261898\n",
      "True     39.738102\n",
      "Name: like_timestamp, dtype: float64\n"
     ]
    }
   ],
   "source": [
    "for col in target_columns:\n",
    "    print(col)\n",
    "    print(df[col].notnull().value_counts(normalize=True)*100)"
   ]
  },
  {
   "cell_type": "markdown",
   "id": "angry-incident",
   "metadata": {},
   "source": [
    "## Feature columns"
   ]
  },
  {
   "cell_type": "code",
   "execution_count": 62,
   "id": "adjacent-present",
   "metadata": {},
   "outputs": [],
   "source": [
    "feature_columns = list(set(df.columns)-set(target_columns))"
   ]
  },
  {
   "cell_type": "code",
   "execution_count": 63,
   "id": "curious-hepatitis",
   "metadata": {},
   "outputs": [
    {
     "name": "stdout",
     "output_type": "stream",
     "text": [
      "<class 'pandas.core.frame.DataFrame'>\n",
      "RangeIndex: 2241793 entries, 0 to 2241792\n",
      "Data columns (total 20 columns):\n",
      " #   Column                              Dtype         \n",
      "---  ------                              -----         \n",
      " 0   tweet_type                          category      \n",
      " 1   engaged_with_user_id                object        \n",
      " 2   engaging_user_id                    object        \n",
      " 3   engaging_user_account_creation      datetime64[ns]\n",
      " 4   present_domains                     object        \n",
      " 5   engagee_follows_engager             bool          \n",
      " 6   engaged_with_user_account_creation  datetime64[ns]\n",
      " 7   engaged_with_user_following_count   int64         \n",
      " 8   engaging_user_is_verified           bool          \n",
      " 9   tweet_timestamp                     datetime64[ns]\n",
      " 10  language                            object        \n",
      " 11  hashtags                            object        \n",
      " 12  present_media                       object        \n",
      " 13  text_ tokens                        object        \n",
      " 14  tweet_id                            object        \n",
      " 15  engaging_user_follower_count        int64         \n",
      " 16  engaged_with_user_follower_count    int64         \n",
      " 17  engaged_with_user_is_verified       bool          \n",
      " 18  present_links                       object        \n",
      " 19  engaging_user_following_count       int64         \n",
      "dtypes: bool(3), category(1), datetime64[ns](3), int64(4), object(9)\n",
      "memory usage: 282.2+ MB\n"
     ]
    }
   ],
   "source": [
    "df[feature_columns].info()"
   ]
  },
  {
   "cell_type": "code",
   "execution_count": 60,
   "id": "several-navigator",
   "metadata": {},
   "outputs": [
    {
     "data": {
      "text/html": [
       "<div>\n",
       "<style scoped>\n",
       "    .dataframe tbody tr th:only-of-type {\n",
       "        vertical-align: middle;\n",
       "    }\n",
       "\n",
       "    .dataframe tbody tr th {\n",
       "        vertical-align: top;\n",
       "    }\n",
       "\n",
       "    .dataframe thead th {\n",
       "        text-align: right;\n",
       "    }\n",
       "</style>\n",
       "<table border=\"1\" class=\"dataframe\">\n",
       "  <thead>\n",
       "    <tr style=\"text-align: right;\">\n",
       "      <th></th>\n",
       "      <th>tweet_type</th>\n",
       "      <th>engaged_with_user_id</th>\n",
       "      <th>engaging_user_id</th>\n",
       "      <th>engaging_user_account_creation</th>\n",
       "      <th>present_domains</th>\n",
       "      <th>engagee_follows_engager</th>\n",
       "      <th>engaged_with_user_account_creation</th>\n",
       "      <th>engaged_with_user_following_count</th>\n",
       "      <th>engaging_user_is_verified</th>\n",
       "      <th>tweet_timestamp</th>\n",
       "      <th>language</th>\n",
       "      <th>hashtags</th>\n",
       "      <th>present_media</th>\n",
       "      <th>text_ tokens</th>\n",
       "      <th>tweet_id</th>\n",
       "      <th>engaging_user_follower_count</th>\n",
       "      <th>engaged_with_user_follower_count</th>\n",
       "      <th>engaged_with_user_is_verified</th>\n",
       "      <th>present_links</th>\n",
       "      <th>engaging_user_following_count</th>\n",
       "    </tr>\n",
       "  </thead>\n",
       "  <tbody>\n",
       "    <tr>\n",
       "      <th>0</th>\n",
       "      <td>Quote</td>\n",
       "      <td>E1054B3E0E8E9DA570D817F51A73885E</td>\n",
       "      <td>140434A8754F70323B7BBAE809B65B29</td>\n",
       "      <td>2011-04-26 02:19:20</td>\n",
       "      <td>[3C0DB64B05242E8A7ED51F93785AA091]</td>\n",
       "      <td>True</td>\n",
       "      <td>2020-02-29 07:35:34</td>\n",
       "      <td>696</td>\n",
       "      <td>False</td>\n",
       "      <td>2021-02-07 14:16:21</td>\n",
       "      <td>E7F038DE3EAD397AEC9193686C911677</td>\n",
       "      <td>None</td>\n",
       "      <td>None</td>\n",
       "      <td>[101, 100, 6247, 3823, 100, 216, 3770, 10827, ...</td>\n",
       "      <td>82858A8A9899B1437BCFC5D97ECED8B8</td>\n",
       "      <td>571</td>\n",
       "      <td>675</td>\n",
       "      <td>False</td>\n",
       "      <td>[24F3875A3FEE1DA4B7BCD346EF4A7066]</td>\n",
       "      <td>742</td>\n",
       "    </tr>\n",
       "    <tr>\n",
       "      <th>1</th>\n",
       "      <td>TopLevel</td>\n",
       "      <td>8923CE7F418F653A6B8E93F255C21FB4</td>\n",
       "      <td>E022AD787B2BE6ED64DA7660A23F1C7B</td>\n",
       "      <td>2012-12-09 03:19:34</td>\n",
       "      <td>None</td>\n",
       "      <td>True</td>\n",
       "      <td>2014-09-04 12:55:09</td>\n",
       "      <td>367</td>\n",
       "      <td>False</td>\n",
       "      <td>2021-02-11 17:05:57</td>\n",
       "      <td>488B32D24BD4BB44172EB981C1BCA6FA</td>\n",
       "      <td>None</td>\n",
       "      <td>None</td>\n",
       "      <td>[101, 15384, 48426, 10230, 25470, 16473, 30123...</td>\n",
       "      <td>6F3527024A1B32F0072F284C7D61CE1D</td>\n",
       "      <td>111</td>\n",
       "      <td>453</td>\n",
       "      <td>False</td>\n",
       "      <td>None</td>\n",
       "      <td>42</td>\n",
       "    </tr>\n",
       "    <tr>\n",
       "      <th>2</th>\n",
       "      <td>TopLevel</td>\n",
       "      <td>6EC14E96E26DCEE96EBC0CD520FF65E2</td>\n",
       "      <td>EAE4AFB8A76F7036655FC33174D963E3</td>\n",
       "      <td>2020-09-10 10:17:40</td>\n",
       "      <td>[0FF02B2C345DC24DF9453DB993999FFE]</td>\n",
       "      <td>False</td>\n",
       "      <td>2014-10-17 10:41:42</td>\n",
       "      <td>261</td>\n",
       "      <td>False</td>\n",
       "      <td>2021-02-04 10:36:57</td>\n",
       "      <td>DA13A5C3763C212D9D68FC69102DE5E5</td>\n",
       "      <td>[8F4665495616E63F2F6162B1EA48DD26]</td>\n",
       "      <td>[Photo]</td>\n",
       "      <td>[101, 67707, 13520, 21162, 14996, 117, 12537, ...</td>\n",
       "      <td>7E061D1B6C5EECA0EAE12EC115BDB38F</td>\n",
       "      <td>47</td>\n",
       "      <td>36033</td>\n",
       "      <td>True</td>\n",
       "      <td>[9A94C6B87BA0A96CF8932FFC18ADDA2E]</td>\n",
       "      <td>899</td>\n",
       "    </tr>\n",
       "    <tr>\n",
       "      <th>3</th>\n",
       "      <td>TopLevel</td>\n",
       "      <td>57702B3903145012E8B17BD77000DDAA</td>\n",
       "      <td>4E0E262086AB0338615CBD8C8EA09E8E</td>\n",
       "      <td>2016-05-13 03:46:20</td>\n",
       "      <td>None</td>\n",
       "      <td>False</td>\n",
       "      <td>2010-11-24 03:32:07</td>\n",
       "      <td>309</td>\n",
       "      <td>False</td>\n",
       "      <td>2021-02-09 23:10:55</td>\n",
       "      <td>B0FA488F2911701DD8EC5B1EA5E322D8</td>\n",
       "      <td>None</td>\n",
       "      <td>None</td>\n",
       "      <td>[101, 38432, 18439, 10139, 15983, 16555, 10198...</td>\n",
       "      <td>764D7AA478DC4258E2144F7AE52958CE</td>\n",
       "      <td>49</td>\n",
       "      <td>278571</td>\n",
       "      <td>False</td>\n",
       "      <td>None</td>\n",
       "      <td>692</td>\n",
       "    </tr>\n",
       "    <tr>\n",
       "      <th>4</th>\n",
       "      <td>Retweet</td>\n",
       "      <td>E9CB4529426EED1A94EAF4C2CDBA6586</td>\n",
       "      <td>1AA980868659C6424D37F6989E0A75B3</td>\n",
       "      <td>2012-09-07 06:40:45</td>\n",
       "      <td>None</td>\n",
       "      <td>True</td>\n",
       "      <td>2020-03-27 21:44:36</td>\n",
       "      <td>947</td>\n",
       "      <td>False</td>\n",
       "      <td>2021-02-10 20:04:20</td>\n",
       "      <td>1F73BB863A39DB62B4A55B7E558DB1E8</td>\n",
       "      <td>None</td>\n",
       "      <td>[Photo]</td>\n",
       "      <td>[101, 56898, 137, 24471, 10921, 10738, 10943, ...</td>\n",
       "      <td>462A952971A021886F292669D2B7C740</td>\n",
       "      <td>531</td>\n",
       "      <td>1092</td>\n",
       "      <td>False</td>\n",
       "      <td>None</td>\n",
       "      <td>230</td>\n",
       "    </tr>\n",
       "  </tbody>\n",
       "</table>\n",
       "</div>"
      ],
      "text/plain": [
       "  tweet_type              engaged_with_user_id  \\\n",
       "0      Quote  E1054B3E0E8E9DA570D817F51A73885E   \n",
       "1   TopLevel  8923CE7F418F653A6B8E93F255C21FB4   \n",
       "2   TopLevel  6EC14E96E26DCEE96EBC0CD520FF65E2   \n",
       "3   TopLevel  57702B3903145012E8B17BD77000DDAA   \n",
       "4    Retweet  E9CB4529426EED1A94EAF4C2CDBA6586   \n",
       "\n",
       "                   engaging_user_id engaging_user_account_creation  \\\n",
       "0  140434A8754F70323B7BBAE809B65B29            2011-04-26 02:19:20   \n",
       "1  E022AD787B2BE6ED64DA7660A23F1C7B            2012-12-09 03:19:34   \n",
       "2  EAE4AFB8A76F7036655FC33174D963E3            2020-09-10 10:17:40   \n",
       "3  4E0E262086AB0338615CBD8C8EA09E8E            2016-05-13 03:46:20   \n",
       "4  1AA980868659C6424D37F6989E0A75B3            2012-09-07 06:40:45   \n",
       "\n",
       "                      present_domains  engagee_follows_engager  \\\n",
       "0  [3C0DB64B05242E8A7ED51F93785AA091]                     True   \n",
       "1                                None                     True   \n",
       "2  [0FF02B2C345DC24DF9453DB993999FFE]                    False   \n",
       "3                                None                    False   \n",
       "4                                None                     True   \n",
       "\n",
       "  engaged_with_user_account_creation  engaged_with_user_following_count  \\\n",
       "0                2020-02-29 07:35:34                                696   \n",
       "1                2014-09-04 12:55:09                                367   \n",
       "2                2014-10-17 10:41:42                                261   \n",
       "3                2010-11-24 03:32:07                                309   \n",
       "4                2020-03-27 21:44:36                                947   \n",
       "\n",
       "   engaging_user_is_verified     tweet_timestamp  \\\n",
       "0                      False 2021-02-07 14:16:21   \n",
       "1                      False 2021-02-11 17:05:57   \n",
       "2                      False 2021-02-04 10:36:57   \n",
       "3                      False 2021-02-09 23:10:55   \n",
       "4                      False 2021-02-10 20:04:20   \n",
       "\n",
       "                           language                            hashtags  \\\n",
       "0  E7F038DE3EAD397AEC9193686C911677                                None   \n",
       "1  488B32D24BD4BB44172EB981C1BCA6FA                                None   \n",
       "2  DA13A5C3763C212D9D68FC69102DE5E5  [8F4665495616E63F2F6162B1EA48DD26]   \n",
       "3  B0FA488F2911701DD8EC5B1EA5E322D8                                None   \n",
       "4  1F73BB863A39DB62B4A55B7E558DB1E8                                None   \n",
       "\n",
       "  present_media                                       text_ tokens  \\\n",
       "0          None  [101, 100, 6247, 3823, 100, 216, 3770, 10827, ...   \n",
       "1          None  [101, 15384, 48426, 10230, 25470, 16473, 30123...   \n",
       "2       [Photo]  [101, 67707, 13520, 21162, 14996, 117, 12537, ...   \n",
       "3          None  [101, 38432, 18439, 10139, 15983, 16555, 10198...   \n",
       "4       [Photo]  [101, 56898, 137, 24471, 10921, 10738, 10943, ...   \n",
       "\n",
       "                           tweet_id  engaging_user_follower_count  \\\n",
       "0  82858A8A9899B1437BCFC5D97ECED8B8                           571   \n",
       "1  6F3527024A1B32F0072F284C7D61CE1D                           111   \n",
       "2  7E061D1B6C5EECA0EAE12EC115BDB38F                            47   \n",
       "3  764D7AA478DC4258E2144F7AE52958CE                            49   \n",
       "4  462A952971A021886F292669D2B7C740                           531   \n",
       "\n",
       "   engaged_with_user_follower_count  engaged_with_user_is_verified  \\\n",
       "0                               675                          False   \n",
       "1                               453                          False   \n",
       "2                             36033                           True   \n",
       "3                            278571                          False   \n",
       "4                              1092                          False   \n",
       "\n",
       "                        present_links  engaging_user_following_count  \n",
       "0  [24F3875A3FEE1DA4B7BCD346EF4A7066]                            742  \n",
       "1                                None                             42  \n",
       "2  [9A94C6B87BA0A96CF8932FFC18ADDA2E]                            899  \n",
       "3                                None                            692  \n",
       "4                                None                            230  "
      ]
     },
     "execution_count": 60,
     "metadata": {},
     "output_type": "execute_result"
    }
   ],
   "source": [
    "df[feature_columns].head()"
   ]
  },
  {
   "cell_type": "markdown",
   "id": "tracked-reset",
   "metadata": {},
   "source": [
    "### Tweet type"
   ]
  }
 ],
 "metadata": {
  "kernelspec": {
   "display_name": "recsys2021-venv",
   "language": "python",
   "name": "recsys2021-venv"
  },
  "language_info": {
   "codemirror_mode": {
    "name": "ipython",
    "version": 3
   },
   "file_extension": ".py",
   "mimetype": "text/x-python",
   "name": "python",
   "nbconvert_exporter": "python",
   "pygments_lexer": "ipython3",
   "version": "3.7.9"
  }
 },
 "nbformat": 4,
 "nbformat_minor": 5
}
