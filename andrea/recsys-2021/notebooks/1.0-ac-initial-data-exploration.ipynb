{
 "cells": [
  {
   "cell_type": "markdown",
   "id": "animal-compression",
   "metadata": {},
   "source": [
    "# Initial data exploration"
   ]
  },
  {
   "cell_type": "code",
   "execution_count": 1,
   "id": "cutting-drink",
   "metadata": {},
   "outputs": [],
   "source": [
    "import numpy as np\n",
    "import pandas as pd\n",
    "import matplotlib.pyplot as plt\n",
    "import seaborn as sns\n",
    "%config InlineBackend.figure_format='retina'\n",
    "sns.set()\n",
    "import gc"
   ]
  },
  {
   "cell_type": "code",
   "execution_count": 2,
   "id": "connected-cleanup",
   "metadata": {},
   "outputs": [
    {
     "name": "stdout",
     "output_type": "stream",
     "text": [
      "CPU times: user 3.4 s, sys: 795 ms, total: 4.2 s\n",
      "Wall time: 2.85 s\n"
     ]
    }
   ],
   "source": [
    "%%time\n",
    "df = pd.read_parquet('../data/interim/sample2m.parquet')"
   ]
  },
  {
   "cell_type": "code",
   "execution_count": 3,
   "id": "missing-vitamin",
   "metadata": {},
   "outputs": [
    {
     "data": {
      "text/plain": [
       "hashtags                                      object\n",
       "present_media                                 object\n",
       "present_links                                 object\n",
       "present_domains                               object\n",
       "tweet_type                                  category\n",
       "language                                    category\n",
       "tweet_timestamp                       datetime64[ns]\n",
       "engaged_with_user_id                          object\n",
       "engaged_with_user_follower_count               int64\n",
       "engaged_with_user_following_count              int64\n",
       "engaged_with_user_is_verified                   bool\n",
       "engaged_with_user_account_creation    datetime64[ns]\n",
       "engaging_user_id                              object\n",
       "engaging_user_follower_count                   int64\n",
       "engaging_user_following_count                  int64\n",
       "engaging_user_is_verified                       bool\n",
       "engaging_user_account_creation        datetime64[ns]\n",
       "engagee_follows_engager                         bool\n",
       "TARGET_reply                                   int64\n",
       "TARGET_retweet                                 int64\n",
       "TARGET_retweet_with_comment                    int64\n",
       "TARGET_like                                    int64\n",
       "dtype: object"
      ]
     },
     "execution_count": 3,
     "metadata": {},
     "output_type": "execute_result"
    }
   ],
   "source": [
    "df.dtypes"
   ]
  },
  {
   "cell_type": "markdown",
   "id": "parallel-wiring",
   "metadata": {},
   "source": [
    "## Target columns"
   ]
  },
  {
   "cell_type": "code",
   "execution_count": 14,
   "id": "copyrighted-berry",
   "metadata": {},
   "outputs": [],
   "source": [
    "target_columns = ['TARGET_reply', 'TARGET_retweet','TARGET_retweet_with_comment', 'TARGET_like']"
   ]
  },
  {
   "cell_type": "code",
   "execution_count": 15,
   "id": "solid-genesis",
   "metadata": {},
   "outputs": [
    {
     "name": "stdout",
     "output_type": "stream",
     "text": [
      "<class 'pandas.core.frame.DataFrame'>\n",
      "RangeIndex: 2241793 entries, 0 to 2241792\n",
      "Data columns (total 4 columns):\n",
      " #   Column                       Dtype\n",
      "---  ------                       -----\n",
      " 0   TARGET_reply                 int64\n",
      " 1   TARGET_retweet               int64\n",
      " 2   TARGET_retweet_with_comment  int64\n",
      " 3   TARGET_like                  int64\n",
      "dtypes: int64(4)\n",
      "memory usage: 68.4 MB\n"
     ]
    }
   ],
   "source": [
    "df[target_columns].info()"
   ]
  },
  {
   "cell_type": "markdown",
   "id": "young-automation",
   "metadata": {},
   "source": [
    "Positive and negative interactions are balanced"
   ]
  },
  {
   "cell_type": "code",
   "execution_count": 17,
   "id": "immune-stewart",
   "metadata": {},
   "outputs": [
    {
     "data": {
      "text/plain": [
       "False    0.502247\n",
       "True     0.497753\n",
       "dtype: float64"
      ]
     },
     "execution_count": 17,
     "metadata": {},
     "output_type": "execute_result"
    }
   ],
   "source": [
    "df[target_columns].sum(axis=1).apply(lambda x: x > 0).value_counts(normalize=True)"
   ]
  },
  {
   "cell_type": "markdown",
   "id": "sacred-telescope",
   "metadata": {},
   "source": [
    "The different kinds of positive interactions are really unbalanced"
   ]
  },
  {
   "cell_type": "code",
   "execution_count": 18,
   "id": "integrated-rebound",
   "metadata": {},
   "outputs": [
    {
     "name": "stdout",
     "output_type": "stream",
     "text": [
      "TARGET_reply\n",
      "0    97.085815\n",
      "1     2.914185\n",
      "Name: TARGET_reply, dtype: float64\n",
      "TARGET_retweet\n",
      "0    91.237371\n",
      "1     8.762629\n",
      "Name: TARGET_retweet, dtype: float64\n",
      "TARGET_retweet_with_comment\n",
      "0    99.303192\n",
      "1     0.696808\n",
      "Name: TARGET_retweet_with_comment, dtype: float64\n",
      "TARGET_like\n",
      "0    60.261898\n",
      "1    39.738102\n",
      "Name: TARGET_like, dtype: float64\n"
     ]
    }
   ],
   "source": [
    "for col in target_columns:\n",
    "    print(col)\n",
    "    print(df[col].value_counts(normalize=True)*100)"
   ]
  },
  {
   "cell_type": "markdown",
   "id": "incident-insert",
   "metadata": {},
   "source": [
    "## Feature columns"
   ]
  },
  {
   "cell_type": "code",
   "execution_count": 21,
   "id": "violent-blackberry",
   "metadata": {},
   "outputs": [],
   "source": [
    "feature_columns = [c for c in df.columns if c not in target_columns]"
   ]
  },
  {
   "cell_type": "code",
   "execution_count": 22,
   "id": "swiss-testament",
   "metadata": {},
   "outputs": [
    {
     "name": "stdout",
     "output_type": "stream",
     "text": [
      "<class 'pandas.core.frame.DataFrame'>\n",
      "RangeIndex: 2241793 entries, 0 to 2241792\n",
      "Data columns (total 18 columns):\n",
      " #   Column                              Dtype         \n",
      "---  ------                              -----         \n",
      " 0   hashtags                            object        \n",
      " 1   present_media                       object        \n",
      " 2   present_links                       object        \n",
      " 3   present_domains                     object        \n",
      " 4   tweet_type                          category      \n",
      " 5   language                            category      \n",
      " 6   tweet_timestamp                     datetime64[ns]\n",
      " 7   engaged_with_user_id                object        \n",
      " 8   engaged_with_user_follower_count    int64         \n",
      " 9   engaged_with_user_following_count   int64         \n",
      " 10  engaged_with_user_is_verified       bool          \n",
      " 11  engaged_with_user_account_creation  datetime64[ns]\n",
      " 12  engaging_user_id                    object        \n",
      " 13  engaging_user_follower_count        int64         \n",
      " 14  engaging_user_following_count       int64         \n",
      " 15  engaging_user_is_verified           bool          \n",
      " 16  engaging_user_account_creation      datetime64[ns]\n",
      " 17  engagee_follows_engager             bool          \n",
      "dtypes: bool(3), category(2), datetime64[ns](3), int64(4), object(6)\n",
      "memory usage: 233.0+ MB\n"
     ]
    }
   ],
   "source": [
    "df[feature_columns].info()"
   ]
  },
  {
   "cell_type": "markdown",
   "id": "floppy-olive",
   "metadata": {},
   "source": [
    "### Tweet type"
   ]
  },
  {
   "cell_type": "markdown",
   "id": "sporting-indonesian",
   "metadata": {},
   "source": [
    "We should be seeing 'Reply' too, but nothing appears"
   ]
  },
  {
   "cell_type": "code",
   "execution_count": 23,
   "id": "acquired-internship",
   "metadata": {},
   "outputs": [
    {
     "data": {
      "text/plain": [
       "TopLevel    0.591903\n",
       "Retweet     0.326728\n",
       "Quote       0.081369\n",
       "Name: tweet_type, dtype: float64"
      ]
     },
     "execution_count": 23,
     "metadata": {},
     "output_type": "execute_result"
    }
   ],
   "source": [
    "df['tweet_type'].value_counts(normalize=True)"
   ]
  },
  {
   "cell_type": "markdown",
   "id": "broken-hacker",
   "metadata": {},
   "source": [
    "### Engaging user following count"
   ]
  },
  {
   "cell_type": "code",
   "execution_count": 24,
   "id": "satisfactory-greenhouse",
   "metadata": {},
   "outputs": [
    {
     "data": {
      "text/plain": [
       "<AxesSubplot:>"
      ]
     },
     "execution_count": 24,
     "metadata": {},
     "output_type": "execute_result"
    },
    {
     "data": {
      "image/png": "[encoded data removed]",
      "text/plain": [
       "<Figure size 1080x432 with 1 Axes>"
      ]
     },
     "metadata": {
      "image/png": {
       "height": 360,
       "width": 895
      }
     },
     "output_type": "display_data"
    }
   ],
   "source": [
    "df['engaged_with_user_follower_count'].apply(np.log10).hist(bins=200, figsize=(15, 6))"
   ]
  }
 ],
 "metadata": {
  "environment": {
   "name": "common-cpu.m65",
   "type": "gcloud",
   "uri": "gcr.io/deeplearning-platform-release/base-cpu:m65"
  },
  "kernelspec": {
   "display_name": "Python [conda env:root] *",
   "language": "python",
   "name": "conda-root-py"
  },
  "language_info": {
   "codemirror_mode": {
    "name": "ipython",
    "version": 3
   },
   "file_extension": ".py",
   "mimetype": "text/x-python",
   "name": "python",
   "nbconvert_exporter": "python",
   "pygments_lexer": "ipython3",
   "version": "3.7.10"
  }
 },
 "nbformat": 4,
 "nbformat_minor": 5
}
