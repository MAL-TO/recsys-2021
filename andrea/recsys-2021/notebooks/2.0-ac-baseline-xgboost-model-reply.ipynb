{
 "cells": [
  {
   "cell_type": "code",
   "execution_count": 1,
   "id": "dramatic-discrimination",
   "metadata": {},
   "outputs": [],
   "source": [
    "import numpy as np\n",
    "import pandas as pd\n",
    "import matplotlib.pyplot as plt\n",
    "import seaborn as sns\n",
    "%config InlineBackend.figure_format='retina'\n",
    "sns.set()\n",
    "import gc"
   ]
  },
  {
   "cell_type": "markdown",
   "id": "subtle-independence",
   "metadata": {},
   "source": [
    "---"
   ]
  },
  {
   "cell_type": "markdown",
   "id": "applicable-buddy",
   "metadata": {},
   "source": [
    "# Loading Data"
   ]
  },
  {
   "cell_type": "code",
   "execution_count": 2,
   "id": "consolidated-advisory",
   "metadata": {},
   "outputs": [
    {
     "name": "stdout",
     "output_type": "stream",
     "text": [
      "CPU times: user 3.52 s, sys: 767 ms, total: 4.29 s\n",
      "Wall time: 2.86 s\n"
     ]
    }
   ],
   "source": [
    "%%time\n",
    "df = pd.read_parquet('../data/interim/sample2m.parquet')"
   ]
  },
  {
   "cell_type": "code",
   "execution_count": 3,
   "id": "impaired-portrait",
   "metadata": {},
   "outputs": [
    {
     "name": "stdout",
     "output_type": "stream",
     "text": [
      "<class 'pandas.core.frame.DataFrame'>\n",
      "RangeIndex: 2241793 entries, 0 to 2241792\n",
      "Data columns (total 22 columns):\n",
      " #   Column                              Dtype         \n",
      "---  ------                              -----         \n",
      " 0   hashtags                            object        \n",
      " 1   present_media                       object        \n",
      " 2   present_links                       object        \n",
      " 3   present_domains                     object        \n",
      " 4   tweet_type                          category      \n",
      " 5   language                            category      \n",
      " 6   tweet_timestamp                     datetime64[ns]\n",
      " 7   engaged_with_user_id                object        \n",
      " 8   engaged_with_user_follower_count    int64         \n",
      " 9   engaged_with_user_following_count   int64         \n",
      " 10  engaged_with_user_is_verified       bool          \n",
      " 11  engaged_with_user_account_creation  datetime64[ns]\n",
      " 12  engaging_user_id                    object        \n",
      " 13  engaging_user_follower_count        int64         \n",
      " 14  engaging_user_following_count       int64         \n",
      " 15  engaging_user_is_verified           bool          \n",
      " 16  engaging_user_account_creation      datetime64[ns]\n",
      " 17  engagee_follows_engager             bool          \n",
      " 18  TARGET_reply                        int64         \n",
      " 19  TARGET_retweet                      int64         \n",
      " 20  TARGET_retweet_with_comment         int64         \n",
      " 21  TARGET_like                         int64         \n",
      "dtypes: bool(3), category(2), datetime64[ns](3), int64(8), object(6)\n",
      "memory usage: 301.5+ MB\n"
     ]
    }
   ],
   "source": [
    "df.info()"
   ]
  },
  {
   "cell_type": "code",
   "execution_count": 4,
   "id": "elegant-lodging",
   "metadata": {},
   "outputs": [],
   "source": [
    "features = ['engaged_with_user_follower_count', 'engaged_with_user_following_count', 'engaging_user_follower_count', 'engaging_user_following_count']\n",
    "target = 'TARGET_reply'"
   ]
  },
  {
   "cell_type": "markdown",
   "id": "cutting-survivor",
   "metadata": {},
   "source": [
    "---"
   ]
  },
  {
   "cell_type": "markdown",
   "id": "interpreted-bahamas",
   "metadata": {},
   "source": [
    "# Holdout validation"
   ]
  },
  {
   "cell_type": "code",
   "execution_count": 5,
   "id": "corporate-tourism",
   "metadata": {},
   "outputs": [],
   "source": [
    "df.sort_values('tweet_timestamp', inplace=True)"
   ]
  },
  {
   "cell_type": "code",
   "execution_count": 6,
   "id": "revised-sugar",
   "metadata": {},
   "outputs": [],
   "source": [
    "training_df = df[df['tweet_timestamp'].dt.day < 20]"
   ]
  },
  {
   "cell_type": "code",
   "execution_count": 7,
   "id": "proud-competition",
   "metadata": {},
   "outputs": [
    {
     "data": {
      "text/plain": [
       "0.762984807250268"
      ]
     },
     "execution_count": 7,
     "metadata": {},
     "output_type": "execute_result"
    }
   ],
   "source": [
    "len(training_df) / len(df)"
   ]
  },
  {
   "cell_type": "code",
   "execution_count": 8,
   "id": "governing-castle",
   "metadata": {},
   "outputs": [],
   "source": [
    "validation_df = df[df['tweet_timestamp'].dt.day >= 20]"
   ]
  },
  {
   "cell_type": "code",
   "execution_count": 9,
   "id": "signal-humor",
   "metadata": {},
   "outputs": [
    {
     "data": {
      "text/plain": [
       "0.237015192749732"
      ]
     },
     "execution_count": 9,
     "metadata": {},
     "output_type": "execute_result"
    }
   ],
   "source": [
    "len(validation_df) / len(df)"
   ]
  },
  {
   "cell_type": "markdown",
   "id": "contained-firmware",
   "metadata": {},
   "source": [
    "---"
   ]
  },
  {
   "cell_type": "markdown",
   "id": "corrected-prerequisite",
   "metadata": {},
   "source": [
    "This is a very imbalanced binary classification problem. Only 2.9% of the samples are positive.\n",
    "This means that a classifier which always returns 0 will achieve 97.1% accuracy."
   ]
  },
  {
   "cell_type": "code",
   "execution_count": 10,
   "id": "presidential-humor",
   "metadata": {},
   "outputs": [
    {
     "data": {
      "text/plain": [
       "0    0.970792\n",
       "1    0.029208\n",
       "Name: TARGET_reply, dtype: float64"
      ]
     },
     "execution_count": 10,
     "metadata": {},
     "output_type": "execute_result"
    }
   ],
   "source": [
    "training_df[target].value_counts(normalize=True)"
   ]
  },
  {
   "cell_type": "code",
   "execution_count": 11,
   "id": "embedded-modeling",
   "metadata": {},
   "outputs": [
    {
     "data": {
      "text/plain": [
       "0    0.971071\n",
       "1    0.028929\n",
       "Name: TARGET_reply, dtype: float64"
      ]
     },
     "execution_count": 11,
     "metadata": {},
     "output_type": "execute_result"
    }
   ],
   "source": [
    "validation_df[target].value_counts(normalize=True)"
   ]
  },
  {
   "cell_type": "markdown",
   "id": "limiting-petersburg",
   "metadata": {},
   "source": [
    "---"
   ]
  },
  {
   "cell_type": "markdown",
   "id": "progressive-northeast",
   "metadata": {},
   "source": [
    "# Scoring functions"
   ]
  },
  {
   "cell_type": "code",
   "execution_count": 12,
   "id": "assumed-float",
   "metadata": {},
   "outputs": [],
   "source": [
    "from sklearn.metrics import average_precision_score, log_loss\n",
    "\n",
    "def calculate_ctr(gt):\n",
    "    positive = len([x for x in gt if x == 1])\n",
    "    ctr = positive/float(len(gt))\n",
    "    return ctr\n",
    "\n",
    "def relative_cross_entropy_score(gt, pred):\n",
    "    cross_entropy = log_loss(gt, pred)\n",
    "    data_ctr = calculate_ctr(gt)\n",
    "    strawman_cross_entropy = log_loss(gt, [data_ctr for _ in range(len(gt))])\n",
    "    return (1.0 - cross_entropy/strawman_cross_entropy)*100.0\n",
    "\n",
    "def compute_score(y_true, y_score):\n",
    "    ap = average_precision_score(y_true, y_score)\n",
    "    rce = relative_cross_entropy_score(y_true, y_score)\n",
    "    return ap, rce"
   ]
  },
  {
   "cell_type": "markdown",
   "id": "outer-overhead",
   "metadata": {},
   "source": [
    "---"
   ]
  },
  {
   "cell_type": "markdown",
   "id": "musical-showcase",
   "metadata": {},
   "source": [
    "# Baseline Models"
   ]
  },
  {
   "cell_type": "markdown",
   "id": "junior-seeker",
   "metadata": {},
   "source": [
    "## Most frequent class"
   ]
  },
  {
   "cell_type": "code",
   "execution_count": 13,
   "id": "intermediate-whole",
   "metadata": {},
   "outputs": [
    {
     "name": "stdout",
     "output_type": "stream",
     "text": [
      "0.0289 and -662.7297\n"
     ]
    }
   ],
   "source": [
    "print('{:.4f} and {:.4f}'.format(*compute_score(validation_df[target], np.zeros(len(validation_df)))))"
   ]
  },
  {
   "cell_type": "markdown",
   "id": "adjusted-transparency",
   "metadata": {},
   "source": [
    "## Random"
   ]
  },
  {
   "cell_type": "code",
   "execution_count": 14,
   "id": "reported-journalist",
   "metadata": {},
   "outputs": [
    {
     "name": "stdout",
     "output_type": "stream",
     "text": [
      "0.0291 and -663.3940\n"
     ]
    }
   ],
   "source": [
    "print('{:.4f} and {:.4f}'.format(*compute_score(validation_df[target], np.random.rand(len(validation_df)))))"
   ]
  },
  {
   "cell_type": "markdown",
   "id": "chronic-smith",
   "metadata": {},
   "source": [
    "Almost no difference between predicting the most frequent class and just random predictions.\n",
    "\n",
    "In line with the leaderboard's random predictions which are around `0.0227, -822.4109`"
   ]
  },
  {
   "cell_type": "markdown",
   "id": "rubber-binary",
   "metadata": {},
   "source": [
    "---"
   ]
  },
  {
   "cell_type": "markdown",
   "id": "terminal-sydney",
   "metadata": {},
   "source": [
    "# XGBoost Model"
   ]
  },
  {
   "cell_type": "code",
   "execution_count": 15,
   "id": "blank-function",
   "metadata": {},
   "outputs": [],
   "source": [
    "import xgboost as xgb"
   ]
  },
  {
   "cell_type": "code",
   "execution_count": 16,
   "id": "instant-setting",
   "metadata": {},
   "outputs": [],
   "source": [
    "dtrain = xgb.DMatrix(data=training_df[features], label=training_df[target])"
   ]
  },
  {
   "cell_type": "code",
   "execution_count": 17,
   "id": "vanilla-version",
   "metadata": {},
   "outputs": [],
   "source": [
    "xgb_parameters = {\n",
    "    'objective': 'binary:logistic',\n",
    "    'eval_metric': 'logloss'\n",
    "}"
   ]
  },
  {
   "cell_type": "code",
   "execution_count": 18,
   "id": "limiting-quantity",
   "metadata": {},
   "outputs": [
    {
     "name": "stdout",
     "output_type": "stream",
     "text": [
      "CPU times: user 26.1 s, sys: 14.7 ms, total: 26.1 s\n",
      "Wall time: 6.63 s\n"
     ]
    }
   ],
   "source": [
    "%%time\n",
    "model = xgb.train(xgb_parameters, dtrain=dtrain)"
   ]
  },
  {
   "cell_type": "code",
   "execution_count": 19,
   "id": "opposed-session",
   "metadata": {},
   "outputs": [],
   "source": [
    "dvalid = xgb.DMatrix(data=validation_df[features])"
   ]
  },
  {
   "cell_type": "code",
   "execution_count": 20,
   "id": "junior-labor",
   "metadata": {},
   "outputs": [
    {
     "name": "stdout",
     "output_type": "stream",
     "text": [
      "0.0445 and -1.6484\n"
     ]
    }
   ],
   "source": [
    "print('{:.4f} and {:.4f}'.format(*compute_score(validation_df[target], model.predict(dvalid))))"
   ]
  },
  {
   "cell_type": "markdown",
   "id": "norman-projector",
   "metadata": {},
   "source": [
    "## Critique"
   ]
  },
  {
   "cell_type": "code",
   "execution_count": 21,
   "id": "gothic-fighter",
   "metadata": {},
   "outputs": [
    {
     "data": {
      "text/plain": [
       "<AxesSubplot:title={'center':'Feature importance'}, xlabel='F score', ylabel='Features'>"
      ]
     },
     "execution_count": 21,
     "metadata": {},
     "output_type": "execute_result"
    },
    {
     "data": {
      "image/png": "[encoded data removed]",
      "text/plain": [
       "<Figure size 432x288 with 1 Axes>"
      ]
     },
     "metadata": {
      "image/png": {
       "height": 282,
       "width": 573
      }
     },
     "output_type": "display_data"
    }
   ],
   "source": [
    "from xgboost import plot_importance\n",
    "plot_importance(model)"
   ]
  }
 ],
 "metadata": {
  "environment": {
   "name": "common-cpu.m65",
   "type": "gcloud",
   "uri": "gcr.io/deeplearning-platform-release/base-cpu:m65"
  },
  "kernelspec": {
   "display_name": "Python [conda env:root] *",
   "language": "python",
   "name": "conda-root-py"
  },
  "language_info": {
   "codemirror_mode": {
    "name": "ipython",
    "version": 3
   },
   "file_extension": ".py",
   "mimetype": "text/x-python",
   "name": "python",
   "nbconvert_exporter": "python",
   "pygments_lexer": "ipython3",
   "version": "3.7.10"
  }
 },
 "nbformat": 4,
 "nbformat_minor": 5
}
